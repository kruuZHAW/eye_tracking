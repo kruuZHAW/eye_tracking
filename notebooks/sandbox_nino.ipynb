{
 "cells": [
  {
   "cell_type": "code",
   "execution_count": 1,
   "metadata": {},
   "outputs": [],
   "source": [
    "import pandas as pd\n",
    "import numpy as np\n",
    "import os\n",
    "\n",
    "from sklearn.preprocessing import MinMaxScaler\n",
    "\n",
    "import matplotlib.pyplot as plt\n",
    "\n",
    "from sklearn.preprocessing import MinMaxScaler\n",
    "from sklearn.model_selection import train_test_split\n",
    "from sklearn.svm import SVC\n",
    "from sklearn.preprocessing import StandardScaler\n",
    "from sklearn.pipeline import Pipeline\n",
    "from sklearn.impute import SimpleImputer\n",
    "from sklearn.model_selection import GridSearchCV"
   ]
  },
  {
   "cell_type": "markdown",
   "metadata": {},
   "source": [
    "****\n",
    "# Import Datasets\n",
    "****"
   ]
  },
  {
   "cell_type": "code",
   "execution_count": 2,
   "metadata": {},
   "outputs": [],
   "source": [
    "data_path = \"/store/kruu/eye_tracking\"\n",
    "path_list = os.listdir(data_path)\n",
    "path_list = [os.path.join(data_path, file) for file in path_list]"
   ]
  },
  {
   "cell_type": "code",
   "execution_count": 3,
   "metadata": {},
   "outputs": [],
   "source": [
    "# Read the tsv file and return the dataframe\n",
    "def read_tsv(path):\n",
    "    df = pd.read_csv(path,sep='\\t')\n",
    "    expected_tasks = [f\"Task {i}\" for i in range(1, 7)]\n",
    "    task_counts = df['Event'].value_counts()\n",
    "    for task in expected_tasks:\n",
    "        task_end = task + ' end'\n",
    "        if task not in task_counts or task_counts[task] != 6:\n",
    "            # raise ValueError(f\"Mislabeling detected: '{task}' has {task_counts.get(task, 0)} occurrences instead of 6.\")\n",
    "            print(f\"Mislabeling detected for file {path}: '{task}' has {task_counts.get(task, 0)} occurrences instead of 6.\")\n",
    "        if task_end not in task_counts or task_counts[task_end] != 6:\n",
    "            # raise ValueError(f\"Mislabeling detected: '{task}' has {task_counts.get(task, 0)} occurrences instead of 6.\")\n",
    "            print(f\"Mislabeling detected for file {path}: '{task_end}' has {task_counts.get(task_end, 0)} occurrences instead of 6.\")\n",
    "    return df\n",
    "\n",
    "\n",
    "def pad_or_truncate_nan(ts, target_length):\n",
    "    \"\"\"\n",
    "    Pads (or truncates) a 1D time-series array 'ts' with NaN \n",
    "    to make it exactly 'target_length' long.\n",
    "    \"\"\"\n",
    "    # Create an array of NaNs\n",
    "    padded = np.full(shape=(target_length,), fill_value=-1)\n",
    "    length = min(len(ts), target_length)\n",
    "    padded[:length] = ts[:length]  # copy up to target_length\n",
    "    return padded"
   ]
  },
  {
   "cell_type": "code",
   "execution_count": 4,
   "metadata": {},
   "outputs": [
    {
     "name": "stderr",
     "output_type": "stream",
     "text": [
      "/tmp/ipykernel_1680062/3752721751.py:3: DtypeWarning: Columns (76) have mixed types. Specify dtype option on import or set low_memory=False.\n",
      "  df = pd.read_csv(path,sep='\\t')\n",
      "/tmp/ipykernel_1680062/3752721751.py:3: DtypeWarning: Columns (76) have mixed types. Specify dtype option on import or set low_memory=False.\n",
      "  df = pd.read_csv(path,sep='\\t')\n"
     ]
    }
   ],
   "source": [
    "all_files = []\n",
    "for i in range(len(path_list)):\n",
    "    file = read_tsv(path_list[i])\n",
    "    all_files.append(file)\n"
   ]
  },
  {
   "cell_type": "markdown",
   "metadata": {},
   "source": [
    "****\n",
    "# Task range identification\n",
    "****"
   ]
  },
  {
   "cell_type": "code",
   "execution_count": 5,
   "metadata": {},
   "outputs": [
    {
     "data": {
      "text/plain": [
       "Recording timestamp\n",
       "0.008333    63233\n",
       "0.008334    30942\n",
       "0.008332     9322\n",
       "0.008331     2465\n",
       "0.008335     1571\n",
       "            ...  \n",
       "0.000215        1\n",
       "0.003780        1\n",
       "0.004068        1\n",
       "0.004947        1\n",
       "0.164029        1\n",
       "Name: count, Length: 8369, dtype: int64"
      ]
     },
     "execution_count": 5,
     "metadata": {},
     "output_type": "execute_result"
    }
   ],
   "source": [
    "# The frequency of recording is 120Hz, that's why consecutive timestamps are at least 8.33ms apart\n",
    "(all_files[0][\"Recording timestamp\"].diff()/1e6).value_counts()"
   ]
  },
  {
   "cell_type": "code",
   "execution_count": 6,
   "metadata": {},
   "outputs": [
    {
     "name": "stdout",
     "output_type": "stream",
     "text": [
      "Duration of screen recording in min: 18.937161516666666\n",
      "Total duration in min: 20.649416666666667\n"
     ]
    }
   ],
   "source": [
    "# The unit of the timestamp is in microsecond\n",
    "#Duration of the screen recording in minutes\n",
    "print(f\"Duration of screen recording in min: {(all_files[0].query('Event == \"ScreenRecordingEnd\"')['Recording timestamp'].values - all_files[0].query('Event == \"ScreenRecordingStart\"')['Recording timestamp'].values).item()/(1e6 * 60)}\")\n",
    "\n",
    "#Total duration of the recording in minutes (unit of the columns, miliseconds)\n",
    "print(f\"Total duration in min: {all_files[0][\"Recording duration\"].unique().item()/(1000*60)}\")"
   ]
  },
  {
   "cell_type": "code",
   "execution_count": 7,
   "metadata": {},
   "outputs": [],
   "source": [
    "# Get the task range start and end index\n",
    "def task_range_finder(db, task_str):\n",
    "    task_range = []\n",
    "    all_start = db.loc[db['Event'].str.contains('Task', na=False)][\"Recording timestamp\"].to_list()\n",
    "    start_task = db.loc[db['Event'] == task_str, 'Recording timestamp'].to_list()\n",
    "    for j in range(len(all_start)):\n",
    "        if all_start[j] in start_task:\n",
    "            # If the last task is the last task of the recording: add 1 minute to the end of the task\n",
    "            if j == len(all_start) - 1:\n",
    "                task_range.append([all_start[j], all_start[j] + (60*1e6)])\n",
    "            else:\n",
    "                task_range.append([all_start[j], all_start[j+1] - (5*1e6)])\n",
    "    return task_range"
   ]
  },
  {
   "cell_type": "code",
   "execution_count": 8,
   "metadata": {},
   "outputs": [],
   "source": [
    "def get_task_pairs(df, task):\n",
    "    \"\"\"\n",
    "    For a given task (e.g., 'Task 1'), returns a list of (start, end) timestamp pairs.\n",
    "    Assumes that the DataFrame df has at least the following columns:\n",
    "      - 'Event': contains event names like \"Task 1\" and \"Task 1 end\"\n",
    "      - 'Recording timestamp': numerical timestamps.\n",
    "    \n",
    "    This function assumes the events for the given task occur in order and that \n",
    "    each start is eventually followed by its matching end.\n",
    "    \"\"\"\n",
    "    # Create the strings for the start and end events.\n",
    "    start_event = task\n",
    "    end_event = task + \" end\"\n",
    "    \n",
    "    # Filter the DataFrame for only the events of interest.\n",
    "    df_task = df[df['Event'].isin([start_event, end_event])].copy()\n",
    "    \n",
    "    # Sort by Recording timestamp to ensure chronological order.\n",
    "    df_task.sort_values('Recording timestamp', inplace=True)\n",
    "    \n",
    "    pairs = []\n",
    "    current_start = None\n",
    "    for _, row in df_task.iterrows():\n",
    "        event = row['Event']\n",
    "        ts = row['Recording timestamp']\n",
    "        \n",
    "        if event == start_event:\n",
    "            # Set current start timestamp.\n",
    "            current_start = ts\n",
    "        elif event == end_event:\n",
    "            # When we see an end event, if we have a stored start, form a pair.\n",
    "            if current_start is not None:\n",
    "                pairs.append((current_start, ts))\n",
    "                # Reset current_start so we don't reuse it.\n",
    "                current_start = None\n",
    "            else:\n",
    "                # Optionally, handle unexpected end events with no matching start.\n",
    "                print(\"Warning: found an end event with no preceding start.\")\n",
    "    \n",
    "    # Optionally, warn if there's a start without a matching end.\n",
    "    if current_start is not None:\n",
    "        print(\"Warning: a start event did not have a matching end event.\")\n",
    "    \n",
    "    return pairs\n",
    "\n",
    "# You can loop over tasks and store the results in a dictionary:\n",
    "tasks = ['Task 1', 'Task 2', 'Task 3', 'Task 4', 'Task 5', 'Task 6']\n",
    "# Use a dictionary where keys are generated from the index of the file.\n",
    "file_dict = {}\n",
    "\n",
    "for idx, file in enumerate(all_files):\n",
    "    # Use the index (or you can format it as a string, e.g., f\"File_{idx}\")\n",
    "    file_key = f\"File_{idx}\"\n",
    "    file_dict[file_key] = {}  # Initialize nested dict for this file\n",
    "\n",
    "    for task in tasks:\n",
    "        file_dict[file_key][task] =  get_task_pairs(file, task)"
   ]
  },
  {
   "cell_type": "code",
   "execution_count": 9,
   "metadata": {},
   "outputs": [],
   "source": [
    "# create a dict with tasks as key and values from all the participants\n",
    "# Initialize the new dictionary with tasks as keys and empty lists as values.\n",
    "all_tasks_dict = {task: [] for task in tasks}\n",
    "\n",
    "# Loop over each file in your file_dict and add the task ranges.\n",
    "for file_key, task_data in file_dict.items():\n",
    "    for task, ranges in task_data.items():\n",
    "        all_tasks_dict[task].append(ranges)"
   ]
  },
  {
   "cell_type": "markdown",
   "metadata": {},
   "source": [
    "****\n",
    "# Data Extraction\n",
    "****"
   ]
  },
  {
   "cell_type": "code",
   "execution_count": 10,
   "metadata": {},
   "outputs": [],
   "source": [
    "# Min-Max transform\n",
    "def min_max_safe_transform(arr):\n",
    "    if arr.shape[0] == 0:\n",
    "        # Return empty 1D array if no samples\n",
    "        return np.array([])\n",
    "    # Fit a new scaler for each array\n",
    "    scaler = MinMaxScaler()\n",
    "    scaled = scaler.fit_transform(arr)  # shape => (rows, 1)\n",
    "    return scaled.ravel() \n",
    "\n",
    "# Get the gaze point and mouse position data\n",
    "def feature_extraction(db, task_range):\n",
    "    period = task_range\n",
    "    data = db.query(f\"`Recording timestamp` >= {period[0]} and `Recording timestamp` <= {period[1]}\")[['Gaze point X', 'Gaze point Y', 'Mouse position X', 'Mouse position Y']]\n",
    "    data_filled = data.ffill().bfill()\n",
    "    return data_filled"
   ]
  },
  {
   "cell_type": "code",
   "execution_count": 11,
   "metadata": {},
   "outputs": [],
   "source": [
    "# get all the features of task start, task end into a dict\n",
    "extracted_tasks = {}\n",
    "for task in tasks:\n",
    "    extracted_tasks[task] = []\n",
    "    for i in range(len(all_files)):\n",
    "        # Loop over every occurrence (all indices) in the inner list for this file and task.\n",
    "        for j in range(len(all_tasks_dict[task][i])):\n",
    "            result = feature_extraction(all_files[i], all_tasks_dict[task][i][j])\n",
    "            extracted_tasks[task].append(result)"
   ]
  },
  {
   "cell_type": "code",
   "execution_count": 12,
   "metadata": {},
   "outputs": [],
   "source": [
    "# scale the tasks globally\n",
    "\n",
    "import pandas as pd\n",
    "from sklearn.preprocessing import MinMaxScaler\n",
    "\n",
    "\n",
    "\n",
    "# Use a global scaler computed from all DataFrames (all tasks together)\n",
    "all_dfs = []\n",
    "for task, df_list in extracted_tasks.items():\n",
    "    all_dfs.extend(df_list)  # add every DataFrame to a list\n",
    "\n",
    "# Concatenate all DataFrames vertically\n",
    "combined_df = pd.concat(all_dfs, ignore_index=True)\n",
    "\n",
    "# Create and fit a global MinMaxScaler\n",
    "global_scaler = MinMaxScaler().fit(combined_df)\n",
    "\n",
    "# Now transform every DataFrame using this global scaler\n",
    "scaled_extracted_tasks = {}\n",
    "for task, df_list in extracted_tasks.items():\n",
    "    scaled_extracted_tasks[task] = [\n",
    "        pd.DataFrame(global_scaler.transform(df), columns=df.columns, index=df.index)\n",
    "        for df in df_list\n",
    "    ]"
   ]
  },
  {
   "cell_type": "code",
   "execution_count": 13,
   "metadata": {},
   "outputs": [],
   "source": [
    "def pad_arrays_to_longest(arrays, fill_value=-1):\n",
    "    \"\"\"\n",
    "    Given a list of 1D NumPy arrays, pad each array with the specified\n",
    "    fill_value so that all arrays have the same length as the longest array.\n",
    "\n",
    "    Parameters:\n",
    "      arrays (list of np.array): List of 1D NumPy arrays.\n",
    "      fill_value (int or float): The value to pad with (default is -1).\n",
    "\n",
    "    Returns:\n",
    "      list of np.array: A list of padded 1D arrays, all of length equal to \n",
    "                        the maximum length found among the input arrays.\n",
    "    \"\"\"\n",
    "    if not arrays:\n",
    "        return arrays  # return empty list if input is empty\n",
    "\n",
    "    max_length = max(arr.shape[0] for arr in arrays)\n",
    "    max_length = 10304\n",
    "    padded_arrays = [\n",
    "        np.pad(arr, pad_width=(0, max_length - arr.shape[0]), mode='constant', constant_values=fill_value)\n",
    "        for arr in arrays\n",
    "    ]\n",
    "    return padded_arrays\n",
    "\n",
    "def forward_fill(arr):\n",
    "    \"\"\"\n",
    "    Forward fills a 1D numpy array.\n",
    "    \"\"\"\n",
    "    mask = np.isnan(arr)\n",
    "    # Create an index array that holds indices of the last non-NaN\n",
    "    idx = np.where(~mask, np.arange(len(arr)), 0)\n",
    "    # Propagate the last valid index forward\n",
    "    np.maximum.accumulate(idx, out=idx)\n",
    "    return arr[idx]"
   ]
  },
  {
   "cell_type": "code",
   "execution_count": 14,
   "metadata": {},
   "outputs": [],
   "source": [
    "# rearrange data\n",
    "columns = ['Gaze point X', 'Gaze point Y', 'Mouse position X', 'Mouse position Y']\n",
    "extracted_data = {\n",
    "    task: {\n",
    "        col: [df[col].to_numpy() for df in scaled_extracted_tasks[task]]\n",
    "        for col in columns\n",
    "    }\n",
    "    for task in scaled_extracted_tasks.keys()\n",
    "}"
   ]
  },
  {
   "cell_type": "code",
   "execution_count": 15,
   "metadata": {},
   "outputs": [],
   "source": [
    "# pad the data\n",
    "for task in extracted_data:\n",
    "    for col in extracted_data[task]:\n",
    "        extracted_data[task][col] = pad_arrays_to_longest(extracted_data[task][col], fill_value=-1)"
   ]
  },
  {
   "cell_type": "code",
   "execution_count": 16,
   "metadata": {},
   "outputs": [
    {
     "name": "stderr",
     "output_type": "stream",
     "text": [
      "/tmp/ipykernel_1680062/4128761045.py:49: FutureWarning: DataFrame.fillna with 'method' is deprecated and will raise in a future version. Use obj.ffill() or obj.bfill() instead.\n",
      "  df_ffill = df.fillna(method='ffill')\n"
     ]
    }
   ],
   "source": [
    "gp_x_t1 = extracted_data['Task 1']['Gaze point X']\n",
    "gp_y_t1 = extracted_data['Task 1']['Gaze point Y']\n",
    "mp_x_t1 = extracted_data['Task 1']['Mouse position X']\n",
    "mp_y_t1 = extracted_data['Task 1']['Mouse position Y']\n",
    "X_lt1 = np.hstack([gp_x_t1, gp_y_t1, mp_x_t1, mp_y_t1])\n",
    "y_t1 = np.full(X_lt1.shape[0], 'Task1')\n",
    "\n",
    "gp_x_t2 = extracted_data['Task 2']['Gaze point X']\n",
    "gp_y_t2 = extracted_data['Task 2']['Gaze point Y']\n",
    "mp_x_t2 = extracted_data['Task 2']['Mouse position X']\n",
    "mp_y_t2 = extracted_data['Task 2']['Mouse position Y']\n",
    "X_lt2 = np.hstack([gp_x_t2, gp_y_t2, mp_x_t2, mp_y_t2])\n",
    "y_t2 = np.full(X_lt2.shape[0], 'Task2')\n",
    "\n",
    "gp_x_t3 = extracted_data['Task 3']['Gaze point X']\n",
    "gp_y_t3 = extracted_data['Task 3']['Gaze point Y']\n",
    "mp_x_t3 = extracted_data['Task 3']['Mouse position X']\n",
    "mp_y_t3 = extracted_data['Task 3']['Mouse position Y']\n",
    "X_lt3 = np.hstack([gp_x_t3, gp_y_t3, mp_x_t3, mp_y_t3])\n",
    "y_t3 = np.full(X_lt3.shape[0], 'Task3')\n",
    "\n",
    "gp_x_t4 = extracted_data['Task 4']['Gaze point X']\n",
    "gp_y_t4 = extracted_data['Task 4']['Gaze point Y']\n",
    "mp_x_t4 = extracted_data['Task 4']['Mouse position X']\n",
    "mp_y_t4 = extracted_data['Task 4']['Mouse position Y']\n",
    "X_lt4 = np.hstack([gp_x_t4, gp_y_t4, mp_x_t4, mp_y_t4])\n",
    "y_t4 = np.full(X_lt4.shape[0], 'Task4')\n",
    "\n",
    "gp_x_t5 = extracted_data['Task 5']['Gaze point X']\n",
    "gp_y_t5 = extracted_data['Task 5']['Gaze point Y']\n",
    "mp_x_t5 = extracted_data['Task 5']['Mouse position X']\n",
    "mp_y_t5 = extracted_data['Task 5']['Mouse position Y']\n",
    "X_lt5 = np.hstack([gp_x_t5, gp_y_t5, mp_x_t5, mp_y_t5])\n",
    "y_t5 = np.full(X_lt5.shape[0], 'Task5')\n",
    "\n",
    "gp_x_t6 = extracted_data['Task 6']['Gaze point X']\n",
    "gp_y_t6 = extracted_data['Task 6']['Gaze point Y']\n",
    "mp_x_t6 = extracted_data['Task 6']['Mouse position X']\n",
    "mp_y_t6 = extracted_data['Task 6']['Mouse position Y']\n",
    "X_lt6 = np.hstack([gp_x_t6, gp_y_t6, mp_x_t6, mp_y_t6])\n",
    "y_t6 = np.full(X_lt6.shape[0], 'Task6')\n",
    "\n",
    "# all tasks and labels in one array\n",
    "X_lt = np.vstack([X_lt1, X_lt2, X_lt3, X_lt4, X_lt5, X_lt6])\n",
    "y_t = np.hstack([y_t1, y_t2, y_t3, y_t4, y_t5, y_t6])\n",
    "\n",
    "# Forward fill along rows (i.e., fill each column downward) for NaNs due to fusion bar failing\n",
    "df = pd.DataFrame(X_lt)\n",
    "df_ffill = df.fillna(method='ffill')\n",
    "X_lt = df_ffill.to_numpy()\n"
   ]
  },
  {
   "cell_type": "code",
   "execution_count": 17,
   "metadata": {},
   "outputs": [
    {
     "data": {
      "text/plain": [
       "(432, 41216)"
      ]
     },
     "execution_count": 17,
     "metadata": {},
     "output_type": "execute_result"
    }
   ],
   "source": [
    "X_lt.shape"
   ]
  },
  {
   "cell_type": "code",
   "execution_count": 18,
   "metadata": {},
   "outputs": [
    {
     "name": "stdout",
     "output_type": "stream",
     "text": [
      "Test Accuracy with normalized data: 0.3333333333333333\n"
     ]
    }
   ],
   "source": [
    "# Train/Test split\n",
    "X_train, X_test, y_train, y_test = train_test_split(X_lt, y_t, \n",
    "                                                    test_size=0.2, \n",
    "                                                    stratify=y_t,\n",
    "                                                    random_state=42)\n",
    "\n",
    "clf = SVC(kernel='poly', C=0.01, gamma=0.01)\n",
    "clf.fit(X_train, y_train)\n",
    "\n",
    "accuracy = clf.score(X_test, y_test)\n",
    "print(\"Test Accuracy with normalized data:\", accuracy)"
   ]
  },
  {
   "cell_type": "code",
   "execution_count": 38,
   "metadata": {},
   "outputs": [
    {
     "name": "stdout",
     "output_type": "stream",
     "text": [
      "Best params: {'C': 0.01, 'gamma': 0.01, 'kernel': 'poly'}\n",
      "Best CV score: 0.8499771116949287\n"
     ]
    }
   ],
   "source": [
    "# grid search for SVM\n",
    "param_grid = {\n",
    "    'C': [0.01, 0.1, 1, 10, 100],\n",
    "    'gamma': [1e-5, 1e-4, 1e-3, 1e-2, 1e-1],\n",
    "    'kernel': ['rbf', 'sigmoid', 'poly']\n",
    "}\n",
    "\n",
    "grid = GridSearchCV(\n",
    "    estimator=clf,  \n",
    "    param_grid=param_grid,  \n",
    "    cv=8,  \n",
    "    scoring='accuracy'\n",
    ")\n",
    "grid.fit(X_train, y_train)\n",
    "print(\"Best params:\", grid.best_params_)\n",
    "print(\"Best CV score:\", grid.best_score_)"
   ]
  },
  {
   "cell_type": "code",
   "execution_count": 36,
   "metadata": {},
   "outputs": [],
   "source": [
    "prediction = clf.predict(X_test)\n",
    "wrong = np.where(y_test != prediction)\n",
    "true_value = list(y_test[wrong])\n",
    "pred = list(prediction[wrong])\n",
    "results = {'True Value': list(true_value), 'Prediction': list(pred) }\n",
    "results_df = pd.DataFrame(results)\n"
   ]
  },
  {
   "cell_type": "code",
   "execution_count": 37,
   "metadata": {},
   "outputs": [
    {
     "data": {
      "image/png": "[encoded data removed]",
      "text/plain": [
       "<Figure size 600x600 with 2 Axes>"
      ]
     },
     "metadata": {},
     "output_type": "display_data"
    }
   ],
   "source": [
    "import matplotlib.pyplot as plt\n",
    "import seaborn as sns\n",
    "from sklearn.metrics import confusion_matrix\n",
    "from sklearn.preprocessing import LabelEncoder\n",
    "# Convert string labels to numbers using LabelEncoder\n",
    "le = LabelEncoder()\n",
    "all_labels = sorted(set(true_value + pred))  # Get all unique task names\n",
    "le.fit(all_labels)  # Fit label encoder to task names\n",
    "\n",
    "# Transform labels into integers\n",
    "y_true = le.transform(results_df[\"True Value\"])\n",
    "y_pred = le.transform(results_df[\"Prediction\"])\n",
    "\n",
    "# Compute confusion matrix\n",
    "cm = confusion_matrix(y_true, y_pred)\n",
    "\n",
    "# Plot Confusion Matrix\n",
    "plt.figure(figsize=(6, 6))\n",
    "sns.heatmap(cm, annot=True, fmt=\"d\", cmap=\"Blues\",\n",
    "            xticklabels=all_labels, yticklabels=all_labels)\n",
    "plt.xlabel(\"Predicted Label\")\n",
    "plt.ylabel(\"True Label\")\n",
    "plt.title(\"Confusion Matrix\")\n",
    "plt.show()"
   ]
  }
 ],
 "metadata": {
  "kernelspec": {
   "display_name": "Conda via SLURM aware",
   "language": "python",
   "name": "jupyter-eg-kernel-slurm-py-conda-1ika090dq"
  },
  "language_info": {
   "codemirror_mode": {
    "name": "ipython",
    "version": 3
   },
   "file_extension": ".py",
   "mimetype": "text/x-python",
   "name": "python",
   "nbconvert_exporter": "python",
   "pygments_lexer": "ipython3",
   "version": "3.12.9"
  }
 },
 "nbformat": 4,
 "nbformat_minor": 2
}
