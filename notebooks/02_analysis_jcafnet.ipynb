{
 "cells": [
  {
   "cell_type": "code",
   "execution_count": 4,
   "id": "1cac8e2a",
   "metadata": {},
   "outputs": [],
   "source": [
    "import os\n",
    "import json\n",
    "from pathlib import Path\n",
    "os.chdir(Path('~/git/eye_tracking/').expanduser())\n",
    "\n",
    "import pandas as pd\n",
    "from utils.train import evaluate_pytorch_model\n",
    "from models.jcafnet import JCAFNet\n",
    "\n",
    "from trainings.jcafnet_training import load_and_process, enrich_with_gaze_mouse_metrics\n",
    "\n",
    "from sklearn.metrics import confusion_matrix, ConfusionMatrixDisplay"
   ]
  },
  {
   "cell_type": "code",
   "execution_count": 2,
   "id": "f77ad579",
   "metadata": {},
   "outputs": [
    {
     "name": "stderr",
     "output_type": "stream",
     "text": [
      "/cluster/home/kruu/git/eye_tracking/utils/data_processing.py:14: DtypeWarning: Columns (76) have mixed types. Specify dtype option on import or set low_memory=False.\n",
      "  df = pd.read_csv(path, sep='\\t')\n",
      "/cluster/home/kruu/git/eye_tracking/utils/data_processing.py:14: DtypeWarning: Columns (76) have mixed types. Specify dtype option on import or set low_memory=False.\n",
      "  df = pd.read_csv(path, sep='\\t')\n",
      "/cluster/home/kruu/git/eye_tracking/utils/data_processing.py:14: DtypeWarning: Columns (75,76) have mixed types. Specify dtype option on import or set low_memory=False.\n",
      "  df = pd.read_csv(path, sep='\\t')\n",
      "/cluster/home/kruu/git/eye_tracking/utils/data_processing.py:14: DtypeWarning: Columns (76) have mixed types. Specify dtype option on import or set low_memory=False.\n",
      "  df = pd.read_csv(path, sep='\\t')\n",
      "Enriching features: 100%|██████████| 684/684 [01:03<00:00, 10.69it/s]\n"
     ]
    }
   ],
   "source": [
    "data_path = Path('~/store/eye_tracking/').expanduser()\n",
    "tasks = ['Task 1', 'Task 2', 'Task 3', 'Task 4', 'Task 5', 'Task 6']\n",
    "cols = ['Recording timestamp', 'Gaze point X', 'Gaze point Y', 'Mouse position X', 'Mouse position Y', 'Event', 'Participant name']\n",
    "interpolate_cols = ['Recording timestamp', 'Gaze point X', 'Gaze point Y', 'Mouse position X', 'Mouse position Y', 'Blink']\n",
    "fill_cols = [\"Mouse position X\", \"Mouse position Y\", \"Gaze point X\", \"Gaze point Y\"]\n",
    "\n",
    "features = {\n",
    "    \"gaze\": [\"Gaze point X\", \"Gaze point Y\", \"Gaze Velocity\", \"Gaze Acceleration\"],\n",
    "    \"mouse\": [\"Mouse position X\", \"Mouse position Y\", \"Mouse Velocity\", \"Mouse Acceleration\"],\n",
    "    \"joint\": [\"Gaze-Mouse Distance\", \"Angle Between Gaze and Mouse\"]\n",
    "}\n",
    "\n",
    "dataset_time_resampled = load_and_process(data_path=data_path,\n",
    "                                            tasks=tasks,\n",
    "                                            columns=cols,\n",
    "                                            interpolate_cols=interpolate_cols,\n",
    "                                            fill_cols=fill_cols)\n",
    "dataset_enriched = enrich_with_gaze_mouse_metrics(dataset_time_resampled)"
   ]
  },
  {
   "cell_type": "code",
   "execution_count": 10,
   "id": "efb14ed5",
   "metadata": {},
   "outputs": [
    {
     "name": "stdout",
     "output_type": "stream",
     "text": [
      "Loading dataset splits...\n"
     ]
    }
   ],
   "source": [
    "data_split_path = str(Path('~/store/eye_tracking/splits').expanduser())\n",
    "split_files = [f\"{data_split_path}/{s}.parquet\" for s in [\"train\", \"val\", \"test\"]]\n",
    "\n",
    "if all(Path(f).exists() for f in split_files):\n",
    "    print(\"Loading dataset splits...\")\n",
    "    train_df = pd.read_parquet(split_files[0])\n",
    "    val_df = pd.read_parquet(split_files[1])\n",
    "    test_df = pd.read_parquet(split_files[2])"
   ]
  },
  {
   "cell_type": "code",
   "execution_count": 19,
   "id": "2de9202b",
   "metadata": {},
   "outputs": [
    {
     "name": "stdout",
     "output_type": "stream",
     "text": [
      "🧠 PyTorch Evaluation: Loss = 4.5222, Accuracy = 0.1667\n"
     ]
    }
   ],
   "source": [
    "ckpt_path =\"trainings/logs/jcafnet_classifier/hardy-water-3/epoch40-val_acc0.72.ckpt\"\n",
    "metadata_path = \"trainings/logs/jcafnet_classifier/hardy-water-3/model_metadata.json\"\n",
    "\n",
    "with open(metadata_path, \"r\") as f:\n",
    "    metadata = json.load(f)\n",
    "\n",
    "model_ckpt = JCAFNet.load_from_checkpoint(ckpt_path)\n",
    "model_ckpt.eval()\n",
    "\n",
    "res_train_pytorch = evaluate_pytorch_model(model_ckpt,\n",
    "                                        #    dataset_enriched[dataset_enriched[\"id\"].isin(metadata[\"test_ids\"])],\n",
    "                                           test_df,\n",
    "                                           metadata[\"features\"],\n",
    "                                           metadata[\"num_classes\"],\n",
    "                                           metadata[\"mean\"], \n",
    "                                           metadata[\"std\"])"
   ]
  },
  {
   "cell_type": "code",
   "execution_count": 9,
   "id": "476b448e",
   "metadata": {},
   "outputs": [
    {
     "data": {
      "text/plain": [
       "<sklearn.metrics._plot.confusion_matrix.ConfusionMatrixDisplay at 0x718eef7d81a0>"
      ]
     },
     "execution_count": 9,
     "metadata": {},
     "output_type": "execute_result"
    },
    {
     "data": {
      "image/png": "[encoded data removed]",
      "text/plain": [
       "<Figure size 640x480 with 2 Axes>"
      ]
     },
     "metadata": {},
     "output_type": "display_data"
    }
   ],
   "source": [
    "cm = confusion_matrix(res_train_pytorch[\"labels\"], res_train_pytorch[\"predictions\"])\n",
    "disp = ConfusionMatrixDisplay(confusion_matrix=cm)\n",
    "disp.plot()"
   ]
  },
  {
   "cell_type": "code",
   "execution_count": null,
   "id": "03e6436d",
   "metadata": {},
   "outputs": [],
   "source": []
  }
 ],
 "metadata": {
  "kernelspec": {
   "display_name": "aware",
   "language": "python",
   "name": "python3"
  },
  "language_info": {
   "codemirror_mode": {
    "name": "ipython",
    "version": 3
   },
   "file_extension": ".py",
   "mimetype": "text/x-python",
   "name": "python",
   "nbconvert_exporter": "python",
   "pygments_lexer": "ipython3",
   "version": "3.12.7"
  }
 },
 "nbformat": 4,
 "nbformat_minor": 5
}
