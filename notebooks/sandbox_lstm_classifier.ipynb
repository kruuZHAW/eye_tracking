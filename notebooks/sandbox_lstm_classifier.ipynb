{
 "cells": [
  {
   "cell_type": "code",
   "execution_count": 1,
   "metadata": {},
   "outputs": [],
   "source": [
    "import pandas as pd\n",
    "import numpy as np\n",
    "import os\n",
    "\n",
    "os.chdir('/home/kruu/git_folder/eye_tracking/')\n",
    "from utils.data_processing import EyeTrackingProcessor\n",
    "\n",
    "import torch\n",
    "from torch.utils.data import DataLoader\n",
    "from models.lstm_classifier import LSTMClassifier, train_classifier, evaluate_model\n",
    "from utils.dataset import GazeMouseDataset"
   ]
  },
  {
   "cell_type": "markdown",
   "metadata": {},
   "source": [
    "****\n",
    "# Import Datasets\n",
    "****"
   ]
  },
  {
   "cell_type": "code",
   "execution_count": null,
   "metadata": {},
   "outputs": [
    {
     "name": "stderr",
     "output_type": "stream",
     "text": [
      "/home/kruu/git_folder/eye_tracking/utils/data_processing.py:20: DtypeWarning: Columns (76) have mixed types. Specify dtype option on import or set low_memory=False.\n",
      "  df = pd.read_csv(path, sep='\\t')\n",
      "/home/kruu/git_folder/eye_tracking/utils/data_processing.py:20: DtypeWarning: Columns (76) have mixed types. Specify dtype option on import or set low_memory=False.\n",
      "  df = pd.read_csv(path, sep='\\t')\n"
     ]
    }
   ],
   "source": [
    "data_path = \"/store/kruu/eye_tracking\"\n",
    "files_list = os.listdir(data_path)\n",
    "files_list = [os.path.join(data_path, file) for file in files_list]\n",
    "\n",
    "tasks = ['Task 1', 'Task 2', 'Task 3', 'Task 4', 'Task 5', 'Task 6']\n",
    "features = ['Recording timestamp', 'Gaze point X', 'Gaze point Y', 'Mouse position X', 'Mouse position Y', 'Participant name']\n",
    "interpolate_col = ['Recording timestamp', 'Gaze point X', 'Gaze point Y', 'Mouse position X', 'Mouse position Y']\n",
    "\n",
    "processor = EyeTrackingProcessor()\n",
    "all_data = processor.load_data(files_list)\n",
    "dataset = processor.get_features(all_data, tasks, features)\n",
    "\n",
    "#Fixed size resampling for the whole task\n",
    "dataset_resampled = processor.fixed_points_resample(dataset, features, num_points=500)\n",
    "dataset_resampled.fillna(0, inplace=True)\n",
    "\n",
    "#Fixed Time step resampling\n",
    "# dataset_resampled = processor.fixed_time_steps_resample(dataset, interpolate_col, timestep = 0.01)\n",
    "# dataset_resampled.fillna(0, inplace=True)"
   ]
  },
  {
   "cell_type": "markdown",
   "metadata": {},
   "source": [
    "****\n",
    "# Classifier\n",
    "****"
   ]
  },
  {
   "cell_type": "code",
   "execution_count": 3,
   "metadata": {},
   "outputs": [
    {
     "name": "stderr",
     "output_type": "stream",
     "text": [
      "GPU available: False, used: False\n",
      "TPU available: False, using: 0 TPU cores\n",
      "HPU available: False, using: 0 HPUs\n",
      "Failed to detect the name of this notebook, you can set it manually with the WANDB_NOTEBOOK_NAME environment variable to enable code saving.\n",
      "\u001b[34m\u001b[1mwandb\u001b[0m: Using wandb-core as the SDK backend.  Please refer to https://wandb.me/wandb-core for more information.\n",
      "\u001b[34m\u001b[1mwandb\u001b[0m: Currently logged in as: \u001b[33mkruu\u001b[0m (\u001b[33mzhaw_zav\u001b[0m) to \u001b[32mhttps://api.wandb.ai\u001b[0m. Use \u001b[1m`wandb login --relogin`\u001b[0m to force relogin\n"
     ]
    },
    {
     "data": {
      "text/html": [
       "Tracking run with wandb version 0.19.7.dev1"
      ],
      "text/plain": [
       "<IPython.core.display.HTML object>"
      ]
     },
     "metadata": {},
     "output_type": "display_data"
    },
    {
     "data": {
      "text/html": [
       "Run data is saved locally in <code>./wandb/run-20250306_131603-w9jh7fw3</code>"
      ],
      "text/plain": [
       "<IPython.core.display.HTML object>"
      ]
     },
     "metadata": {},
     "output_type": "display_data"
    },
    {
     "data": {
      "text/html": [
       "Syncing run <strong><a href='https://wandb.ai/zhaw_zav/GazeMouse_Classification/runs/w9jh7fw3' target=\"_blank\">royal-glitter-11</a></strong> to <a href='https://wandb.ai/zhaw_zav/GazeMouse_Classification' target=\"_blank\">Weights & Biases</a> (<a href='https://wandb.me/developer-guide' target=\"_blank\">docs</a>)<br>"
      ],
      "text/plain": [
       "<IPython.core.display.HTML object>"
      ]
     },
     "metadata": {},
     "output_type": "display_data"
    },
    {
     "data": {
      "text/html": [
       " View project at <a href='https://wandb.ai/zhaw_zav/GazeMouse_Classification' target=\"_blank\">https://wandb.ai/zhaw_zav/GazeMouse_Classification</a>"
      ],
      "text/plain": [
       "<IPython.core.display.HTML object>"
      ]
     },
     "metadata": {},
     "output_type": "display_data"
    },
    {
     "data": {
      "text/html": [
       " View run at <a href='https://wandb.ai/zhaw_zav/GazeMouse_Classification/runs/w9jh7fw3' target=\"_blank\">https://wandb.ai/zhaw_zav/GazeMouse_Classification/runs/w9jh7fw3</a>"
      ],
      "text/plain": [
       "<IPython.core.display.HTML object>"
      ]
     },
     "metadata": {},
     "output_type": "display_data"
    },
    {
     "name": "stderr",
     "output_type": "stream",
     "text": [
      "/home/kruu/.conda/envs/aware/lib/python3.12/site-packages/pytorch_lightning/core/optimizer.py:378: Found unsupported keys in the optimizer configuration: {'gradient_clip_val'}\n",
      "\n",
      "  | Name      | Type             | Params | Mode \n",
      "-------------------------------------------------------\n",
      "0 | lstm      | LSTM             | 118 K  | train\n",
      "1 | fc        | Linear           | 390    | train\n",
      "2 | criterion | CrossEntropyLoss | 0      | train\n",
      "-------------------------------------------------------\n",
      "118 K     Trainable params\n",
      "0         Non-trainable params\n",
      "118 K     Total params\n",
      "0.474     Total estimated model params size (MB)\n",
      "3         Modules in train mode\n",
      "0         Modules in eval mode\n",
      "SLURM auto-requeueing enabled. Setting signal handlers.\n"
     ]
    },
    {
     "name": "stdout",
     "output_type": "stream",
     "text": [
      "Sanity Checking DataLoader 0:   0%|          | 0/2 [00:00<?, ?it/s]"
     ]
    },
    {
     "name": "stderr",
     "output_type": "stream",
     "text": [
      "/home/kruu/.conda/envs/aware/lib/python3.12/site-packages/pytorch_lightning/trainer/connectors/data_connector.py:425: The 'val_dataloader' does not have many workers which may be a bottleneck. Consider increasing the value of the `num_workers` argument` to `num_workers=51` in the `DataLoader` to improve performance.\n"
     ]
    },
    {
     "name": "stdout",
     "output_type": "stream",
     "text": [
      "                                                                           "
     ]
    },
    {
     "name": "stderr",
     "output_type": "stream",
     "text": [
      "/home/kruu/.conda/envs/aware/lib/python3.12/site-packages/pytorch_lightning/trainer/connectors/data_connector.py:425: The 'train_dataloader' does not have many workers which may be a bottleneck. Consider increasing the value of the `num_workers` argument` to `num_workers=51` in the `DataLoader` to improve performance.\n"
     ]
    },
    {
     "name": "stdout",
     "output_type": "stream",
     "text": [
      "Epoch 99: 100%|██████████| 11/11 [00:20<00:00,  0.53it/s, v_num=7fw3, train_loss_step=1.440, val_loss=1.850, train_loss_epoch=1.460]"
     ]
    },
    {
     "name": "stderr",
     "output_type": "stream",
     "text": [
      "`Trainer.fit` stopped: `max_epochs=100` reached.\n"
     ]
    },
    {
     "name": "stdout",
     "output_type": "stream",
     "text": [
      "Epoch 99: 100%|██████████| 11/11 [00:20<00:00,  0.53it/s, v_num=7fw3, train_loss_step=1.440, val_loss=1.850, train_loss_epoch=1.460]\n"
     ]
    }
   ],
   "source": [
    "features = ['Relative timestamp', 'Gaze point X', 'Gaze point Y', 'Mouse position X', 'Mouse position Y']\n",
    "model = train_classifier(dataset_resampled,\n",
    "                          features,\n",
    "                          batch_size=32,\n",
    "                          hidden_dim=64,\n",
    "                          num_layers=4,\n",
    "                          learning_rate=0.001,\n",
    "                          num_epochs=100)"
   ]
  },
  {
   "cell_type": "markdown",
   "metadata": {},
   "source": [
    "****\n",
    "# Analysis\n",
    "****"
   ]
  },
  {
   "cell_type": "code",
   "execution_count": 4,
   "metadata": {},
   "outputs": [
    {
     "data": {
      "text/plain": [
       "LSTMClassifier(\n",
       "  (lstm): LSTM(5, 64, num_layers=4, batch_first=True)\n",
       "  (fc): Linear(in_features=64, out_features=6, bias=True)\n",
       "  (criterion): CrossEntropyLoss()\n",
       ")"
      ]
     },
     "execution_count": 4,
     "metadata": {},
     "output_type": "execute_result"
    }
   ],
   "source": [
    "ckpt_path = \"/home/kruu/git_folder/eye_tracking/GazeMouse_Classification/2ajznad2/checkpoints/best_lstm_classifier.ckpt\"\n",
    "features = ['Relative timestamp', 'Gaze point X', 'Gaze point Y', 'Mouse position X', 'Mouse position Y']\n",
    "    \n",
    "model_load = LSTMClassifier(input_dim=5, hidden_dim=64, num_classes = 6, num_layers=4, learning_rate=0.001)\n",
    "model_load.load_state_dict(torch.load(ckpt_path)[\"state_dict\"])\n",
    "model_load.eval()"
   ]
  },
  {
   "cell_type": "code",
   "execution_count": 5,
   "metadata": {},
   "outputs": [
    {
     "name": "stdout",
     "output_type": "stream",
     "text": [
      "✅ Evaluation Complete: Loss = 3.0381, Accuracy = 0.1852\n"
     ]
    }
   ],
   "source": [
    "res = evaluate_model(model_load, dataset_resampled, features)"
   ]
  }
 ],
 "metadata": {
  "kernelspec": {
   "display_name": "Conda via SLURM aware",
   "language": "python",
   "name": "jupyter-eg-kernel-slurm-py-conda-1ika090dq"
  },
  "language_info": {
   "codemirror_mode": {
    "name": "ipython",
    "version": 3
   },
   "file_extension": ".py",
   "mimetype": "text/x-python",
   "name": "python",
   "nbconvert_exporter": "python",
   "pygments_lexer": "ipython3",
   "version": "3.12.9"
  }
 },
 "nbformat": 4,
 "nbformat_minor": 2
}
