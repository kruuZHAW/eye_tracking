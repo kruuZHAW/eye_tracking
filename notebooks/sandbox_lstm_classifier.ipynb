{
 "cells": [
  {
   "cell_type": "code",
   "execution_count": 1,
   "metadata": {},
   "outputs": [],
   "source": [
    "import pandas as pd\n",
    "import numpy as np\n",
    "import os\n",
    "\n",
    "import json\n",
    "from pathlib import Path\n",
    "\n",
    "os.chdir('/cluster/home/kruu/git/eye_tracking/')\n",
    "# os.chdir('/home/kruu/git_folder/eye_tracking/')\n",
    "from utils.data_processing import EyeTrackingProcessor\n",
    "\n",
    "import torch\n",
    "from torch.utils.data import DataLoader\n",
    "from models.lstm_classifier import LSTMClassifier, train_classifier, split_by_participant, export_to_onnx\n",
    "from utils.dataset import GazeMouseDataset"
   ]
  },
  {
   "cell_type": "markdown",
   "metadata": {},
   "source": [
    "****\n",
    "# Import Datasets\n",
    "****"
   ]
  },
  {
   "cell_type": "code",
   "execution_count": 2,
   "metadata": {},
   "outputs": [
    {
     "name": "stderr",
     "output_type": "stream",
     "text": [
      "/cluster/home/kruu/git/eye_tracking/utils/data_processing.py:16: DtypeWarning: Columns (76) have mixed types. Specify dtype option on import or set low_memory=False.\n",
      "  df = pd.read_csv(path, sep='\\t')\n",
      "/cluster/home/kruu/git/eye_tracking/utils/data_processing.py:16: DtypeWarning: Columns (76) have mixed types. Specify dtype option on import or set low_memory=False.\n",
      "  df = pd.read_csv(path, sep='\\t')\n",
      "/cluster/home/kruu/git/eye_tracking/utils/data_processing.py:16: DtypeWarning: Columns (75,76) have mixed types. Specify dtype option on import or set low_memory=False.\n",
      "  df = pd.read_csv(path, sep='\\t')\n",
      "/cluster/home/kruu/git/eye_tracking/utils/data_processing.py:16: DtypeWarning: Columns (76) have mixed types. Specify dtype option on import or set low_memory=False.\n",
      "  df = pd.read_csv(path, sep='\\t')\n"
     ]
    }
   ],
   "source": [
    "# data_path = \"/store/kruu/eye_tracking\"\n",
    "data_path = \"/cluster/home/kruu/store/eye_tracking\"\n",
    "files_list = os.listdir(data_path)\n",
    "files_list = [os.path.join(data_path, file) for file in files_list]\n",
    "\n",
    "tasks = ['Task 1', 'Task 2', 'Task 3', 'Task 4', 'Task 5', 'Task 6']\n",
    "features = ['Recording timestamp', 'Gaze point X', 'Gaze point Y', 'Mouse position X', 'Mouse position Y', 'Event', 'Participant name']\n",
    "interpolate_col = ['Recording timestamp', 'Gaze point X', 'Gaze point Y', 'Mouse position X', 'Mouse position Y', 'Blink']\n",
    "\n",
    "processor = EyeTrackingProcessor()\n",
    "all_data = processor.load_data(files_list)\n",
    "dataset = processor.get_features(all_data, tasks, features)\n",
    "dataset, blinks = processor.detect_blinks(dataset)\n",
    "\n",
    "# Fixed Time step resampling\n",
    "dataset_time_resampled = processor.resample_tasks_fixed_time(dataset, interpolate_col, timestep = 0.01)\n",
    "dataset_time_resampled.Blink = (dataset_time_resampled.Blink > 0.5) #Transform interpolated data\n",
    "# dataset_time_resampled = processor.pad_tasks(dataset_time_resampled) # No need to pad here\n",
    "dataset_time_resampled[\"id\"] = dataset_time_resampled[\"Participant name\"].astype(str) + \"_\" + dataset_time_resampled[\"Task_id\"].astype(str) + \"_\" + dataset_time_resampled[\"Task_execution\"].astype(str)"
   ]
  },
  {
   "cell_type": "code",
   "execution_count": 3,
   "metadata": {},
   "outputs": [],
   "source": [
    "dataset_time_resampled[\"Mouse position X\"] = dataset_time_resampled[\"Mouse position X\"].ffill().bfill()\n",
    "dataset_time_resampled[\"Mouse position Y\"] = dataset_time_resampled[\"Mouse position Y\"].ffill().bfill()\n",
    "dataset_time_resampled[\"Gaze point X\"] = dataset_time_resampled[\"Gaze point X\"].ffill().bfill()\n",
    "dataset_time_resampled[\"Gaze point Y\"] = dataset_time_resampled[\"Gaze point Y\"].ffill().bfill()"
   ]
  },
  {
   "cell_type": "code",
   "execution_count": 4,
   "metadata": {},
   "outputs": [],
   "source": [
    "# add information about movements\n",
    "dataset_time_resampled[\"Gaze X delta\"] = dataset_time_resampled.groupby(\"id\")[\"Gaze point X\"].diff().fillna(0)\n",
    "dataset_time_resampled[\"Gaze Y delta\"] = dataset_time_resampled.groupby(\"id\")[\"Gaze point Y\"].diff().fillna(0)\n",
    "dataset_time_resampled[\"Mouse X delta\"] = dataset_time_resampled.groupby(\"id\")[\"Mouse position X\"].diff().fillna(0)\n",
    "dataset_time_resampled[\"Mouse Y delta\"] = dataset_time_resampled.groupby(\"id\")[\"Mouse position Y\"].diff().fillna(0)\n"
   ]
  },
  {
   "cell_type": "markdown",
   "metadata": {},
   "source": [
    "****\n",
    "# Classifier\n",
    "****"
   ]
  },
  {
   "cell_type": "code",
   "execution_count": 5,
   "metadata": {},
   "outputs": [
    {
     "name": "stderr",
     "output_type": "stream",
     "text": [
      "/raid/persistent_scratch/kruu/venvs/aware/lib/python3.12/site-packages/torch/nn/modules/rnn.py:123: UserWarning: dropout option adds dropout after all but last recurrent layer, so non-zero dropout expects num_layers greater than 1, but got dropout=0.3 and num_layers=1\n",
      "  warnings.warn(\n",
      "/raid/persistent_scratch/kruu/venvs/aware/lib/python3.12/site-packages/lightning_fabric/plugins/environments/slurm.py:204: The `srun` command is available on your system but is not used. HINT: If your intention is to run Lightning on SLURM, prepend your python command with `srun` like so: srun python /raid/persistent_scratch/kruu/venvs/aware/lib/python ...\n",
      "GPU available: True (cuda), used: True\n",
      "TPU available: False, using: 0 TPU cores\n",
      "HPU available: False, using: 0 HPUs\n",
      "\u001b[34m\u001b[1mwandb\u001b[0m: Using wandb-core as the SDK backend.  Please refer to https://wandb.me/wandb-core for more information.\n",
      "\u001b[34m\u001b[1mwandb\u001b[0m: Currently logged in as: \u001b[33mkruu\u001b[0m (\u001b[33mzhaw_zav\u001b[0m) to \u001b[32mhttps://api.wandb.ai\u001b[0m. Use \u001b[1m`wandb login --relogin`\u001b[0m to force relogin\n"
     ]
    },
    {
     "data": {
      "text/html": [
       "Tracking run with wandb version 0.19.9"
      ],
      "text/plain": [
       "<IPython.core.display.HTML object>"
      ]
     },
     "metadata": {},
     "output_type": "display_data"
    },
    {
     "data": {
      "text/html": [
       "Run data is saved locally in <code>./wandb/run-20250430_150324-1nr1v34j</code>"
      ],
      "text/plain": [
       "<IPython.core.display.HTML object>"
      ]
     },
     "metadata": {},
     "output_type": "display_data"
    },
    {
     "data": {
      "text/html": [
       "Syncing run <strong><a href='https://wandb.ai/zhaw_zav/GazeMouse_Classification/runs/1nr1v34j' target=\"_blank\">lyric-sunset-48</a></strong> to <a href='https://wandb.ai/zhaw_zav/GazeMouse_Classification' target=\"_blank\">Weights & Biases</a> (<a href='https://wandb.me/developer-guide' target=\"_blank\">docs</a>)<br>"
      ],
      "text/plain": [
       "<IPython.core.display.HTML object>"
      ]
     },
     "metadata": {},
     "output_type": "display_data"
    },
    {
     "data": {
      "text/html": [
       " View project at <a href='https://wandb.ai/zhaw_zav/GazeMouse_Classification' target=\"_blank\">https://wandb.ai/zhaw_zav/GazeMouse_Classification</a>"
      ],
      "text/plain": [
       "<IPython.core.display.HTML object>"
      ]
     },
     "metadata": {},
     "output_type": "display_data"
    },
    {
     "data": {
      "text/html": [
       " View run at <a href='https://wandb.ai/zhaw_zav/GazeMouse_Classification/runs/1nr1v34j' target=\"_blank\">https://wandb.ai/zhaw_zav/GazeMouse_Classification/runs/1nr1v34j</a>"
      ],
      "text/plain": [
       "<IPython.core.display.HTML object>"
      ]
     },
     "metadata": {},
     "output_type": "display_data"
    },
    {
     "name": "stderr",
     "output_type": "stream",
     "text": [
      "LOCAL_RANK: 0 - CUDA_VISIBLE_DEVICES: [0]\n",
      "/raid/persistent_scratch/kruu/venvs/aware/lib/python3.12/site-packages/pytorch_lightning/core/optimizer.py:378: Found unsupported keys in the optimizer configuration: {'gradient_clip_val'}\n",
      "\n",
      "  | Name           | Type               | Params | Mode \n",
      "--------------------------------------------------------------\n",
      "0 | train_accuracy | MulticlassAccuracy | 0      | train\n",
      "1 | val_accuracy   | MulticlassAccuracy | 0      | train\n",
      "2 | tcn            | TCN                | 97.3 K | train\n",
      "3 | lstm           | LSTM               | 264 K  | train\n",
      "4 | dropout        | Dropout            | 0      | train\n",
      "5 | fc             | Linear             | 1.5 K  | train\n",
      "6 | criterion      | FocalLoss          | 0      | train\n",
      "--------------------------------------------------------------\n",
      "363 K     Trainable params\n",
      "0         Non-trainable params\n",
      "363 K     Total params\n",
      "1.452     Total estimated model params size (MB)\n",
      "32        Modules in train mode\n",
      "0         Modules in eval mode\n"
     ]
    },
    {
     "name": "stdout",
     "output_type": "stream",
     "text": [
      "Sanity Checking DataLoader 0:   0%|          | 0/2 [00:00<?, ?it/s]"
     ]
    },
    {
     "name": "stderr",
     "output_type": "stream",
     "text": [
      "/raid/persistent_scratch/kruu/venvs/aware/lib/python3.12/site-packages/pytorch_lightning/trainer/connectors/data_connector.py:425: The 'val_dataloader' does not have many workers which may be a bottleneck. Consider increasing the value of the `num_workers` argument` to `num_workers=3` in the `DataLoader` to improve performance.\n"
     ]
    },
    {
     "name": "stdout",
     "output_type": "stream",
     "text": [
      "                                                                           "
     ]
    },
    {
     "name": "stderr",
     "output_type": "stream",
     "text": [
      "/raid/persistent_scratch/kruu/venvs/aware/lib/python3.12/site-packages/pytorch_lightning/trainer/connectors/data_connector.py:425: The 'train_dataloader' does not have many workers which may be a bottleneck. Consider increasing the value of the `num_workers` argument` to `num_workers=3` in the `DataLoader` to improve performance.\n"
     ]
    },
    {
     "name": "stdout",
     "output_type": "stream",
     "text": [
      "Epoch 99: 100%|██████████| 15/15 [00:04<00:00,  3.21it/s, v_num=v34j, train_loss_step=0.372, val_loss=1.790, val_acc=0.306, train_loss_epoch=0.303, train_acc_epoch=0.870]"
     ]
    },
    {
     "name": "stderr",
     "output_type": "stream",
     "text": [
      "`Trainer.fit` stopped: `max_epochs=100` reached.\n"
     ]
    },
    {
     "name": "stdout",
     "output_type": "stream",
     "text": [
      "Epoch 99: 100%|██████████| 15/15 [00:05<00:00,  2.93it/s, v_num=v34j, train_loss_step=0.372, val_loss=1.790, val_acc=0.306, train_loss_epoch=0.303, train_acc_epoch=0.870]"
     ]
    },
    {
     "name": "stderr",
     "output_type": "stream",
     "text": [
      "/raid/persistent_scratch/kruu/venvs/aware/lib/python3.12/site-packages/torch/nn/modules/rnn.py:123: UserWarning: dropout option adds dropout after all but last recurrent layer, so non-zero dropout expects num_layers greater than 1, but got dropout=0.3 and num_layers=1\n",
      "  warnings.warn(\n"
     ]
    },
    {
     "name": "stdout",
     "output_type": "stream",
     "text": [
      "\n",
      "✅ Model exported to GazeMouse_Classification/1nr1v34j/best_lstm_classifier.onnx\n",
      "✅ Metadata saved to GazeMouse_Classification/1nr1v34j/model_metadata.json\n"
     ]
    },
    {
     "name": "stderr",
     "output_type": "stream",
     "text": [
      "/raid/persistent_scratch/kruu/venvs/aware/lib/python3.12/site-packages/torch/onnx/symbolic_opset9.py:4277: UserWarning: Exporting a model to ONNX with a batch_size other than 1, with a variable length with LSTM can cause an error when running the ONNX model with a different batch size. Make sure to save the model with a batch size of 1, or define the initial states (h0/c0) as inputs of the model. \n",
      "  warnings.warn(\n"
     ]
    }
   ],
   "source": [
    "features = ['Relative timestamp', 'Gaze point X', 'Gaze point Y', 'Mouse position X', 'Mouse position Y', 'Gaze X delta', 'Gaze Y delta', 'Mouse X delta', 'Mouse Y delta','Blink']\n",
    "\n",
    "input_dim = len(features)\n",
    "hidden_dim = 128\n",
    "num_classes = 6\n",
    "num_layers = 1\n",
    "batch_size = 32\n",
    "lr = 0.001\n",
    "num_epochs = 100\n",
    "\n",
    "train_df, val_df, test_df = split_by_participant(dataset_time_resampled, val_split=0.2, test_split=0.1)\n",
    "\n",
    "model, mean, std, best_ckpt_path = train_classifier(train_df,\n",
    "                                    val_df,\n",
    "                                    features,\n",
    "                                    batch_size=batch_size,\n",
    "                                    hidden_dim=hidden_dim,\n",
    "                                    num_layers=num_layers,\n",
    "                                    learning_rate=lr,\n",
    "                                    num_epochs=num_epochs,\n",
    "                                    data_augment=False,\n",
    "                                    use_wandb=True)\n",
    "\n",
    "export_dir = Path(best_ckpt_path).parent.parent\n",
    "onnx_path = os.path.join(export_dir,\"best_lstm_classifier.onnx\")\n",
    "\n",
    "export_to_onnx(ckpt_path=best_ckpt_path, \n",
    "               export_path=onnx_path,\n",
    "               input_dim=input_dim, \n",
    "               hidden_dim=hidden_dim,\n",
    "               num_classes=num_classes,\n",
    "               num_layers=num_layers,\n",
    "               sequence_len=10000)\n",
    "\n",
    "metadata = {\n",
    "    \"features\": features,\n",
    "    \"mean\": {k: float(v) for k, v in mean.to_dict().items()},\n",
    "    \"std\": {k: float(v) for k, v in std.to_dict().items()},\n",
    "    \"train_ids\": train_df[\"id\"].unique().tolist(),\n",
    "    \"val_ids\": val_df[\"id\"].unique().tolist(),\n",
    "    \"test_ids\": test_df[\"id\"].unique().tolist(),\n",
    "    \"input_dim\": input_dim,\n",
    "    \"hidden_dim\": hidden_dim,\n",
    "    \"num_classes\": num_classes,\n",
    "    \"num_layers\": num_layers,\n",
    "    \"batch_size\": batch_size,\n",
    "    \"data_augmentation\": False,\n",
    "}\n",
    "\n",
    "# Save to JSON\n",
    "metadata_path = os.path.join(export_dir,\"model_metadata.json\")\n",
    "with open(metadata_path, \"w\") as f:\n",
    "    json.dump(metadata, f, indent=4)\n",
    "\n",
    "print(f\"✅ Metadata saved to {metadata_path}\")"
   ]
  },
  {
   "cell_type": "markdown",
   "metadata": {},
   "source": [
    "****\n",
    "# Analysis\n",
    "****"
   ]
  },
  {
   "cell_type": "markdown",
   "metadata": {},
   "source": [
    "WARNING: ONNX DOESN'T SUPPORT PACK_PADDED_SEQUENCE AND THUS MODIFIES THE TRAINING ARCHITECTURE DURING INFERENCE"
   ]
  },
  {
   "cell_type": "markdown",
   "metadata": {},
   "source": [
    "## ONNX Model"
   ]
  },
  {
   "cell_type": "code",
   "execution_count": 15,
   "metadata": {},
   "outputs": [
    {
     "name": "stderr",
     "output_type": "stream",
     "text": [
      "/cluster/home/kruu/git/eye_tracking/utils/dataset.py:16: SettingWithCopyWarning: \n",
      "A value is trying to be set on a copy of a slice from a DataFrame.\n",
      "Try using .loc[row_indexer,col_indexer] = value instead\n",
      "\n",
      "See the caveats in the documentation: https://pandas.pydata.org/pandas-docs/stable/user_guide/indexing.html#returning-a-view-versus-a-copy\n",
      "  dataset['Relative timestamp'] = dataset.groupby('id')['Recording timestamp'].transform(lambda x: x - x.min())\n",
      "/cluster/home/kruu/git/eye_tracking/utils/dataset.py:26: SettingWithCopyWarning: \n",
      "A value is trying to be set on a copy of a slice from a DataFrame.\n",
      "Try using .loc[row_indexer,col_indexer] = value instead\n",
      "\n",
      "See the caveats in the documentation: https://pandas.pydata.org/pandas-docs/stable/user_guide/indexing.html#returning-a-view-versus-a-copy\n",
      "  dataset[features] = (dataset[features] - self.mean) / self.std\n",
      "\u001b[1;31m2025-04-08 16:28:31.585649205 [E:onnxruntime:Default, env.cc:234 ThreadMain] pthread_setaffinity_np failed for thread: 888849, index: 0, mask: {1, 41, }, error code: 22 error msg: Invalid argument. Specify the number of threads explicitly so the affinity is not set.\u001b[m\n",
      "\u001b[1;31m2025-04-08 16:28:31.585802913 [E:onnxruntime:Default, env.cc:234 ThreadMain] pthread_setaffinity_np failed for thread: 888852, index: 3, mask: {4, 44, }, error code: 22 error msg: Invalid argument. Specify the number of threads explicitly so the affinity is not set.\u001b[m\n",
      "\u001b[1;31m2025-04-08 16:28:31.585974879 [E:onnxruntime:Default, env.cc:234 ThreadMain] pthread_setaffinity_np failed for thread: 888853, index: 4, mask: {5, 45, }, error code: 22 error msg: Invalid argument. Specify the number of threads explicitly so the affinity is not set.\u001b[m\n",
      "\u001b[1;31m2025-04-08 16:28:31.585790672 [E:onnxruntime:Default, env.cc:234 ThreadMain] pthread_setaffinity_np failed for thread: 888851, index: 2, mask: {3, 43, }, error code: 22 error msg: Invalid argument. Specify the number of threads explicitly so the affinity is not set.\u001b[m\n",
      "\u001b[1;31m2025-04-08 16:28:31.589485596 [E:onnxruntime:Default, env.cc:234 ThreadMain] pthread_setaffinity_np failed for thread: 888850, index: 1, mask: {2, 42, }, error code: 22 error msg: Invalid argument. Specify the number of threads explicitly so the affinity is not set.\u001b[m\n",
      "\u001b[1;31m2025-04-08 16:28:31.589500903 [E:onnxruntime:Default, env.cc:234 ThreadMain] pthread_setaffinity_np failed for thread: 888854, index: 5, mask: {6, 46, }, error code: 22 error msg: Invalid argument. Specify the number of threads explicitly so the affinity is not set.\u001b[m\n",
      "\u001b[1;31m2025-04-08 16:28:31.589489401 [E:onnxruntime:Default, env.cc:234 ThreadMain] pthread_setaffinity_np failed for thread: 888855, index: 6, mask: {7, 47, }, error code: 22 error msg: Invalid argument. Specify the number of threads explicitly so the affinity is not set.\u001b[m\n",
      "\u001b[1;31m2025-04-08 16:28:31.593475690 [E:onnxruntime:Default, env.cc:234 ThreadMain] pthread_setaffinity_np failed for thread: 888856, index: 7, mask: {8, 48, }, error code: 22 error msg: Invalid argument. Specify the number of threads explicitly so the affinity is not set.\u001b[m\n",
      "\u001b[1;31m2025-04-08 16:28:31.597632205 [E:onnxruntime:Default, env.cc:234 ThreadMain] pthread_setaffinity_np failed for thread: 888857, index: 8, mask: {9, 49, }, error code: 22 error msg: Invalid argument. Specify the number of threads explicitly so the affinity is not set.\u001b[m\n",
      "\u001b[1;31m2025-04-08 16:28:31.601487927 [E:onnxruntime:Default, env.cc:234 ThreadMain] pthread_setaffinity_np failed for thread: 888858, index: 9, mask: {10, 50, }, error code: 22 error msg: Invalid argument. Specify the number of threads explicitly so the affinity is not set.\u001b[m\n",
      "\u001b[1;31m2025-04-08 16:28:31.605475042 [E:onnxruntime:Default, env.cc:234 ThreadMain] pthread_setaffinity_np failed for thread: 888859, index: 10, mask: {11, 51, }, error code: 22 error msg: Invalid argument. Specify the number of threads explicitly so the affinity is not set.\u001b[m\n",
      "\u001b[1;31m2025-04-08 16:28:31.608474531 [E:onnxruntime:Default, env.cc:234 ThreadMain] pthread_setaffinity_np failed for thread: 888860, index: 11, mask: {12, 52, }, error code: 22 error msg: Invalid argument. Specify the number of threads explicitly so the affinity is not set.\u001b[m\n",
      "\u001b[1;31m2025-04-08 16:28:31.612465132 [E:onnxruntime:Default, env.cc:234 ThreadMain] pthread_setaffinity_np failed for thread: 888861, index: 12, mask: {13, 53, }, error code: 22 error msg: Invalid argument. Specify the number of threads explicitly so the affinity is not set.\u001b[m\n",
      "\u001b[1;31m2025-04-08 16:28:31.613639861 [E:onnxruntime:Default, env.cc:234 ThreadMain] pthread_setaffinity_np failed for thread: 888862, index: 13, mask: {14, 54, }, error code: 22 error msg: Invalid argument. Specify the number of threads explicitly so the affinity is not set.\u001b[m\n",
      "\u001b[1;31m2025-04-08 16:28:31.617473646 [E:onnxruntime:Default, env.cc:234 ThreadMain] pthread_setaffinity_np failed for thread: 888863, index: 14, mask: {15, 55, }, error code: 22 error msg: Invalid argument. Specify the number of threads explicitly so the affinity is not set.\u001b[m\n",
      "\u001b[1;31m2025-04-08 16:28:31.623502608 [E:onnxruntime:Default, env.cc:234 ThreadMain] pthread_setaffinity_np failed for thread: 888864, index: 15, mask: {16, 56, }, error code: 22 error msg: Invalid argument. Specify the number of threads explicitly so the affinity is not set.\u001b[m\n",
      "\u001b[1;31m2025-04-08 16:28:31.623554708 [E:onnxruntime:Default, env.cc:234 ThreadMain] pthread_setaffinity_np failed for thread: 888879, index: 30, mask: {31, 71, }, error code: 22 error msg: Invalid argument. Specify the number of threads explicitly so the affinity is not set.\u001b[m\n",
      "\u001b[1;31m2025-04-08 16:28:31.627487320 [E:onnxruntime:Default, env.cc:234 ThreadMain] pthread_setaffinity_np failed for thread: 888865, index: 16, mask: {17, 57, }, error code: 22 error msg: Invalid argument. Specify the number of threads explicitly so the affinity is not set.\u001b[m\n",
      "\u001b[1;31m2025-04-08 16:28:31.628096666 [E:onnxruntime:Default, env.cc:234 ThreadMain] pthread_setaffinity_np failed for thread: 888875, index: 26, mask: {27, 67, }, error code: 22 error msg: Invalid argument. Specify the number of threads explicitly so the affinity is not set.\u001b[m\n",
      "\u001b[1;31m2025-04-08 16:28:31.627487082 [E:onnxruntime:Default, env.cc:234 ThreadMain] pthread_setaffinity_np failed for thread: 888877, index: 28, mask: {29, 69, }, error code: 22 error msg: Invalid argument. Specify the number of threads explicitly so the affinity is not set.\u001b[m\n",
      "\u001b[1;31m2025-04-08 16:28:31.631480869 [E:onnxruntime:Default, env.cc:234 ThreadMain] pthread_setaffinity_np failed for thread: 888878, index: 29, mask: {30, 70, }, error code: 22 error msg: Invalid argument. Specify the number of threads explicitly so the affinity is not set.\u001b[m\n",
      "\u001b[1;31m2025-04-08 16:28:31.635487574 [E:onnxruntime:Default, env.cc:234 ThreadMain] pthread_setaffinity_np failed for thread: 888866, index: 17, mask: {18, 58, }, error code: 22 error msg: Invalid argument. Specify the number of threads explicitly so the affinity is not set.\u001b[m\n",
      "\u001b[1;31m2025-04-08 16:28:31.635535121 [E:onnxruntime:Default, env.cc:234 ThreadMain] pthread_setaffinity_np failed for thread: 888880, index: 31, mask: {32, 72, }, error code: 22 error msg: Invalid argument. Specify the number of threads explicitly so the affinity is not set.\u001b[m\n",
      "\u001b[1;31m2025-04-08 16:28:31.635487575 [E:onnxruntime:Default, env.cc:234 ThreadMain] pthread_setaffinity_np failed for thread: 888876, index: 27, mask: {28, 68, }, error code: 22 error msg: Invalid argument. Specify the number of threads explicitly so the affinity is not set.\u001b[m\n",
      "\u001b[1;31m2025-04-08 16:28:31.639471127 [E:onnxruntime:Default, env.cc:234 ThreadMain] pthread_setaffinity_np failed for thread: 888882, index: 33, mask: {34, 74, }, error code: 22 error msg: Invalid argument. Specify the number of threads explicitly so the affinity is not set.\u001b[m\n",
      "\u001b[1;31m2025-04-08 16:28:31.643468240 [E:onnxruntime:Default, env.cc:234 ThreadMain] pthread_setaffinity_np failed for thread: 888884, index: 35, mask: {36, 76, }, error code: 22 error msg: Invalid argument. Specify the number of threads explicitly so the affinity is not set.\u001b[m\n",
      "\u001b[1;31m2025-04-08 16:28:31.643517000 [E:onnxruntime:Default, env.cc:234 ThreadMain] pthread_setaffinity_np failed for thread: 888868, index: 19, mask: {20, 60, }, error code: 22 error msg: Invalid argument. Specify the number of threads explicitly so the affinity is not set.\u001b[m\n",
      "\u001b[1;31m2025-04-08 16:28:31.647462408 [E:onnxruntime:Default, env.cc:234 ThreadMain] pthread_setaffinity_np failed for thread: 888869, index: 20, mask: {21, 61, }, error code: 22 error msg: Invalid argument. Specify the number of threads explicitly so the affinity is not set.\u001b[m\n",
      "\u001b[1;31m2025-04-08 16:28:31.651464981 [E:onnxruntime:Default, env.cc:234 ThreadMain] pthread_setaffinity_np failed for thread: 888870, index: 21, mask: {22, 62, }, error code: 22 error msg: Invalid argument. Specify the number of threads explicitly so the affinity is not set.\u001b[m\n",
      "\u001b[1;31m2025-04-08 16:28:31.655467052 [E:onnxruntime:Default, env.cc:234 ThreadMain] pthread_setaffinity_np failed for thread: 888871, index: 22, mask: {23, 63, }, error code: 22 error msg: Invalid argument. Specify the number of threads explicitly so the affinity is not set.\u001b[m\n",
      "\u001b[1;31m2025-04-08 16:28:31.663466591 [E:onnxruntime:Default, env.cc:234 ThreadMain] pthread_setaffinity_np failed for thread: 888873, index: 24, mask: {25, 65, }, error code: 22 error msg: Invalid argument. Specify the number of threads explicitly so the affinity is not set.\u001b[m\n",
      "\u001b[1;31m2025-04-08 16:28:31.667478252 [E:onnxruntime:Default, env.cc:234 ThreadMain] pthread_setaffinity_np failed for thread: 888874, index: 25, mask: {26, 66, }, error code: 22 error msg: Invalid argument. Specify the number of threads explicitly so the affinity is not set.\u001b[m\n",
      "\u001b[1;31m2025-04-08 16:28:31.671490891 [E:onnxruntime:Default, env.cc:234 ThreadMain] pthread_setaffinity_np failed for thread: 888881, index: 32, mask: {33, 73, }, error code: 22 error msg: Invalid argument. Specify the number of threads explicitly so the affinity is not set.\u001b[m\n",
      "\u001b[1;31m2025-04-08 16:28:31.675485091 [E:onnxruntime:Default, env.cc:234 ThreadMain] pthread_setaffinity_np failed for thread: 888883, index: 34, mask: {35, 75, }, error code: 22 error msg: Invalid argument. Specify the number of threads explicitly so the affinity is not set.\u001b[m\n",
      "\u001b[1;31m2025-04-08 16:28:31.679485883 [E:onnxruntime:Default, env.cc:234 ThreadMain] pthread_setaffinity_np failed for thread: 888885, index: 36, mask: {37, 77, }, error code: 22 error msg: Invalid argument. Specify the number of threads explicitly so the affinity is not set.\u001b[m\n",
      "\u001b[1;31m2025-04-08 16:28:31.683479540 [E:onnxruntime:Default, env.cc:234 ThreadMain] pthread_setaffinity_np failed for thread: 888886, index: 37, mask: {38, 78, }, error code: 22 error msg: Invalid argument. Specify the number of threads explicitly so the affinity is not set.\u001b[m\n",
      "\u001b[1;31m2025-04-08 16:28:31.687547144 [E:onnxruntime:Default, env.cc:234 ThreadMain] pthread_setaffinity_np failed for thread: 888887, index: 38, mask: {39, 79, }, error code: 22 error msg: Invalid argument. Specify the number of threads explicitly so the affinity is not set.\u001b[m\n",
      "\u001b[1;31m2025-04-08 16:28:31.643473090 [E:onnxruntime:Default, env.cc:234 ThreadMain] pthread_setaffinity_np failed for thread: 888867, index: 18, mask: {19, 59, }, error code: 22 error msg: Invalid argument. Specify the number of threads explicitly so the affinity is not set.\u001b[m\n"
     ]
    },
    {
     "name": "stdout",
     "output_type": "stream",
     "text": [
      "🧠 ONNX Evaluation: Loss = 1.6418, Accuracy = 0.4081\n"
     ]
    }
   ],
   "source": [
    "from models.lstm_classifier import evaluate_onnx_model\n",
    "\n",
    "metadata_path = '/cluster/home/kruu/git/eye_tracking/GazeMouse_Classification/yl6a73ww/model_metadata.json'\n",
    "onnx_path = '/cluster/home/kruu/git/eye_tracking/GazeMouse_Classification/yl6a73ww/best_lstm_classifier.onnx'\n",
    "\n",
    "with open(metadata_path, \"r\") as f:\n",
    "    metadata = json.load(f)\n",
    "\n",
    "onnx_res = evaluate_onnx_model(onnx_path, \n",
    "                          dataset_time_resampled.query(f\"id in {metadata[\"train_ids\"]}\"),\n",
    "                          metadata[\"features\"],\n",
    "                          metadata[\"mean\"], \n",
    "                          metadata[\"std\"])"
   ]
  },
  {
   "cell_type": "code",
   "execution_count": 16,
   "metadata": {},
   "outputs": [
    {
     "data": {
      "text/plain": [
       "<sklearn.metrics._plot.confusion_matrix.ConfusionMatrixDisplay at 0x748795855880>"
      ]
     },
     "execution_count": 16,
     "metadata": {},
     "output_type": "execute_result"
    },
    {
     "data": {
      "image/png": "[encoded data removed]",
      "text/plain": [
       "<Figure size 640x480 with 2 Axes>"
      ]
     },
     "metadata": {},
     "output_type": "display_data"
    }
   ],
   "source": [
    "from sklearn.metrics import confusion_matrix, ConfusionMatrixDisplay\n",
    "\n",
    "cm = confusion_matrix(onnx_res[\"labels\"], onnx_res[\"predictions\"])\n",
    "disp = ConfusionMatrixDisplay(confusion_matrix=cm)\n",
    "disp.plot()"
   ]
  },
  {
   "cell_type": "code",
   "execution_count": 17,
   "metadata": {},
   "outputs": [
    {
     "data": {
      "image/png": "[encoded data removed]",
      "text/plain": [
       "<Figure size 800x400 with 1 Axes>"
      ]
     },
     "metadata": {},
     "output_type": "display_data"
    }
   ],
   "source": [
    "import matplotlib.pyplot as plt\n",
    "\n",
    "plt.figure(figsize=(8, 4))\n",
    "plt.hist(\n",
    "    [c for c, correct in zip(onnx_res[\"probs\"], onnx_res[\"correct_flags\"]) if correct],\n",
    "    bins=30, alpha=0.6, label=\"Correct\"\n",
    ")\n",
    "plt.hist(\n",
    "    [c for c, correct in zip(onnx_res[\"probs\"], onnx_res[\"correct_flags\"]) if not correct],\n",
    "    bins=30, alpha=0.6, label=\"Incorrect\"\n",
    ")\n",
    "plt.title(\"Prediction Confidence Distribution\")\n",
    "plt.xlabel(\"Confidence\")\n",
    "plt.ylabel(\"Count\")\n",
    "plt.legend()\n",
    "plt.grid(True)\n",
    "plt.tight_layout()\n",
    "plt.show()\n"
   ]
  },
  {
   "cell_type": "markdown",
   "metadata": {},
   "source": [
    "## Pytorch Model"
   ]
  },
  {
   "cell_type": "markdown",
   "metadata": {},
   "source": [
    "Vérifier que:\n",
    "- id in train/val/tests sont les mêmes pendant le training que dans le metadata\n",
    "- les means et std sont les mêmes dans le training que metadata\n",
    "- Bien vérifier qu'on a model.eval() a cause des dropouts\n",
    "- Attention au data loader: DataLoader(dataset, batch_size=32, shuffle=False)"
   ]
  },
  {
   "cell_type": "code",
   "execution_count": 14,
   "metadata": {},
   "outputs": [
    {
     "name": "stderr",
     "output_type": "stream",
     "text": [
      "/raid/persistent_scratch/kruu/venvs/aware/lib/python3.12/site-packages/torch/nn/modules/rnn.py:123: UserWarning: dropout option adds dropout after all but last recurrent layer, so non-zero dropout expects num_layers greater than 1, but got dropout=0.3 and num_layers=1\n",
      "  warnings.warn(\n",
      "/cluster/home/kruu/git/eye_tracking/utils/dataset.py:26: SettingWithCopyWarning: \n",
      "A value is trying to be set on a copy of a slice from a DataFrame.\n",
      "Try using .loc[row_indexer,col_indexer] = value instead\n",
      "\n",
      "See the caveats in the documentation: https://pandas.pydata.org/pandas-docs/stable/user_guide/indexing.html#returning-a-view-versus-a-copy\n",
      "  dataset['Relative timestamp'] = dataset.groupby('id')['Recording timestamp'].transform(lambda x: x - x.min())\n",
      "/cluster/home/kruu/git/eye_tracking/utils/dataset.py:36: SettingWithCopyWarning: \n",
      "A value is trying to be set on a copy of a slice from a DataFrame.\n",
      "Try using .loc[row_indexer,col_indexer] = value instead\n",
      "\n",
      "See the caveats in the documentation: https://pandas.pydata.org/pandas-docs/stable/user_guide/indexing.html#returning-a-view-versus-a-copy\n",
      "  dataset[features] = (dataset[features] - self.mean) / self.std\n"
     ]
    },
    {
     "name": "stdout",
     "output_type": "stream",
     "text": [
      "🧠 PyTorch Evaluation: Loss = 2.1919, Accuracy = 0.2222\n"
     ]
    }
   ],
   "source": [
    "from models.lstm_classifier import evaluate_pytorch_model\n",
    "\n",
    "ckpt_path =\"/cluster/home/kruu/git/eye_tracking/GazeMouse_Classification/1nr1v34j/checkpoints/epoch13-val_acc0.35.ckpt\"\n",
    "metadata_path = '/cluster/home/kruu/git/eye_tracking/GazeMouse_Classification/1nr1v34j/model_metadata.json'\n",
    "with open(metadata_path, \"r\") as f:\n",
    "    metadata = json.load(f)\n",
    "\n",
    "model_ckpt = LSTMClassifier.load_from_checkpoint(ckpt_path)\n",
    "model_ckpt.eval()\n",
    "\n",
    "res_train_pytorch = evaluate_pytorch_model(model_ckpt,\n",
    "                                           dataset_time_resampled[dataset_time_resampled[\"id\"].isin(metadata[\"test_ids\"])],\n",
    "                                           metadata[\"features\"],\n",
    "                                           metadata[\"mean\"], \n",
    "                                           metadata[\"std\"])"
   ]
  },
  {
   "cell_type": "code",
   "execution_count": 15,
   "metadata": {},
   "outputs": [],
   "source": [
    "# def compare_model_weights(model_a, model_b):\n",
    "#     for (name_a, param_a), (name_b, param_b) in zip(model_a.named_parameters(), model_b.named_parameters()):\n",
    "#         if name_a != name_b:\n",
    "#             print(f\"❌ Name mismatch: {name_a} != {name_b}\")\n",
    "#             return\n",
    "#         if not torch.allclose(param_a, param_b, atol=1e-6):\n",
    "#             print(f\"❌ Weight mismatch in layer: {name_a}\")\n",
    "#             return\n",
    "#     print(\"✅ All weights match!\")\n",
    "    \n",
    "# compare_model_weights(model, model_ckpt)"
   ]
  },
  {
   "cell_type": "code",
   "execution_count": 16,
   "metadata": {},
   "outputs": [
    {
     "data": {
      "text/plain": [
       "<sklearn.metrics._plot.confusion_matrix.ConfusionMatrixDisplay at 0x7d54ffb7aab0>"
      ]
     },
     "execution_count": 16,
     "metadata": {},
     "output_type": "execute_result"
    },
    {
     "data": {
      "image/png": "[encoded data removed]",
      "text/plain": [
       "<Figure size 640x480 with 2 Axes>"
      ]
     },
     "metadata": {},
     "output_type": "display_data"
    }
   ],
   "source": [
    "from sklearn.metrics import confusion_matrix, ConfusionMatrixDisplay\n",
    "\n",
    "cm = confusion_matrix(res_train_pytorch[\"labels\"], res_train_pytorch[\"predictions\"])\n",
    "disp = ConfusionMatrixDisplay(confusion_matrix=cm)\n",
    "disp.plot()"
   ]
  },
  {
   "cell_type": "code",
   "execution_count": 17,
   "metadata": {},
   "outputs": [
    {
     "data": {
      "image/png": "[encoded data removed]",
      "text/plain": [
       "<Figure size 800x400 with 1 Axes>"
      ]
     },
     "metadata": {},
     "output_type": "display_data"
    }
   ],
   "source": [
    "import matplotlib.pyplot as plt\n",
    "\n",
    "plt.figure(figsize=(8, 4))\n",
    "plt.hist(\n",
    "    [c for c, correct in zip(res_train_pytorch[\"probs\"], res_train_pytorch[\"correct_flags\"]) if correct],\n",
    "    bins=30, alpha=0.6, label=\"Correct\"\n",
    ")\n",
    "plt.hist(\n",
    "    [c for c, correct in zip(res_train_pytorch[\"probs\"], res_train_pytorch[\"correct_flags\"]) if not correct],\n",
    "    bins=30, alpha=0.6, label=\"Incorrect\"\n",
    ")\n",
    "plt.title(\"Prediction Confidence Distribution\")\n",
    "plt.xlabel(\"Confidence\")\n",
    "plt.ylabel(\"Count\")\n",
    "plt.legend()\n",
    "plt.grid(True)\n",
    "plt.tight_layout()\n",
    "plt.show()"
   ]
  },
  {
   "cell_type": "markdown",
   "metadata": {},
   "source": [
    "Ideas to reduce overfitting:\n",
    "- Data augmentation\n",
    "- Use label smoothing in focal loss\n",
    "- Increase dropout\n",
    "- Use TCN + LSTM  / use Joint Cross-Attention Fusion Network\n",
    "- Add temperature scaling at inference\n"
   ]
  },
  {
   "cell_type": "markdown",
   "metadata": {},
   "source": []
  }
 ],
 "metadata": {
  "kernelspec": {
   "display_name": "aware",
   "language": "python",
   "name": "python3"
  },
  "language_info": {
   "codemirror_mode": {
    "name": "ipython",
    "version": 3
   },
   "file_extension": ".py",
   "mimetype": "text/x-python",
   "name": "python",
   "nbconvert_exporter": "python",
   "pygments_lexer": "ipython3",
   "version": "3.12.7"
  }
 },
 "nbformat": 4,
 "nbformat_minor": 2
}
