{
 "cells": [
  {
   "cell_type": "code",
   "execution_count": 1,
   "metadata": {},
   "outputs": [],
   "source": [
    "import pandas as pd\n",
    "import numpy as np\n",
    "import os\n",
    "\n",
    "os.chdir('/home/kruu/git_folder/eye_tracking/')\n",
    "from utils.data_processing import EyeTrackingProcessor\n",
    "\n",
    "import torch\n",
    "from torch.utils.data import DataLoader\n",
    "from models.lstm_classifier import LSTMClassifier, train_classifier, evaluate_model\n",
    "from utils.dataset import GazeMouseDataset"
   ]
  },
  {
   "cell_type": "markdown",
   "metadata": {},
   "source": [
    "****\n",
    "# Import Datasets\n",
    "****"
   ]
  },
  {
   "cell_type": "code",
   "execution_count": null,
   "metadata": {},
   "outputs": [
    {
     "name": "stderr",
     "output_type": "stream",
     "text": [
      "/home/kruu/git_folder/eye_tracking/utils/data_processing.py:20: DtypeWarning: Columns (76) have mixed types. Specify dtype option on import or set low_memory=False.\n",
      "  df = pd.read_csv(path, sep='\\t')\n",
      "/home/kruu/git_folder/eye_tracking/utils/data_processing.py:20: DtypeWarning: Columns (76) have mixed types. Specify dtype option on import or set low_memory=False.\n",
      "  df = pd.read_csv(path, sep='\\t')\n"
     ]
    }
   ],
   "source": [
    "data_path = \"/store/kruu/eye_tracking\"\n",
    "files_list = os.listdir(data_path)\n",
    "files_list = [os.path.join(data_path, file) for file in files_list]\n",
    "\n",
    "tasks = ['Task 1', 'Task 2', 'Task 3', 'Task 4', 'Task 5', 'Task 6']\n",
    "features = ['Recording timestamp', 'Gaze point X', 'Gaze point Y', 'Mouse position X', 'Mouse position Y', 'Participant name']\n",
    "interpolate_col = ['Recording timestamp', 'Gaze point X', 'Gaze point Y', 'Mouse position X', 'Mouse position Y']\n",
    "\n",
    "processor = EyeTrackingProcessor()\n",
    "all_data = processor.load_data(files_list)\n",
    "dataset = processor.get_features(all_data, tasks, features)\n",
    "\n",
    "#Fixed size resampling for the whole task\n",
    "features = [\"Gaze point X\", \"Gaze point Y\", \"Mouse position X\", \"Mouse position Y\", \"Recording timestamp\"]\n",
    "dataset_resampled = processor.fixed_points_resample(dataset, features, num_points=2000)\n",
    "dataset_resampled.fillna(0, inplace=True)\n",
    "\n",
    "#Fixed Time step resampling\n",
    "# dataset_resampled = processor.fixed_time_steps_resample(dataset, interpolate_col, timestep = 0.01)\n",
    "# dataset_resampled.fillna(0, inplace=True)"
   ]
  },
  {
   "cell_type": "code",
   "execution_count": 11,
   "metadata": {},
   "outputs": [
    {
     "data": {
      "text/html": [
       "<div>\n",
       "<style scoped>\n",
       "    .dataframe tbody tr th:only-of-type {\n",
       "        vertical-align: middle;\n",
       "    }\n",
       "\n",
       "    .dataframe tbody tr th {\n",
       "        vertical-align: top;\n",
       "    }\n",
       "\n",
       "    .dataframe thead th {\n",
       "        text-align: right;\n",
       "    }\n",
       "</style>\n",
       "<table border=\"1\" class=\"dataframe\">\n",
       "  <thead>\n",
       "    <tr style=\"text-align: right;\">\n",
       "      <th></th>\n",
       "      <th>Resampled Index</th>\n",
       "      <th>Gaze point X</th>\n",
       "      <th>Gaze point Y</th>\n",
       "      <th>Mouse position X</th>\n",
       "      <th>Mouse position Y</th>\n",
       "      <th>Recording timestamp</th>\n",
       "      <th>Participant name</th>\n",
       "      <th>Task_id</th>\n",
       "      <th>Task_execution</th>\n",
       "    </tr>\n",
       "  </thead>\n",
       "  <tbody>\n",
       "    <tr>\n",
       "      <th>0</th>\n",
       "      <td>0.000000</td>\n",
       "      <td>1670.000000</td>\n",
       "      <td>884.000000</td>\n",
       "      <td>-918.000000</td>\n",
       "      <td>312.000000</td>\n",
       "      <td>2.083195e+08</td>\n",
       "      <td>1</td>\n",
       "      <td>1</td>\n",
       "      <td>0</td>\n",
       "    </tr>\n",
       "    <tr>\n",
       "      <th>1</th>\n",
       "      <td>0.010101</td>\n",
       "      <td>1093.000000</td>\n",
       "      <td>1055.000000</td>\n",
       "      <td>-442.030303</td>\n",
       "      <td>556.333333</td>\n",
       "      <td>2.087037e+08</td>\n",
       "      <td>1</td>\n",
       "      <td>1</td>\n",
       "      <td>0</td>\n",
       "    </tr>\n",
       "    <tr>\n",
       "      <th>2</th>\n",
       "      <td>0.020202</td>\n",
       "      <td>812.000000</td>\n",
       "      <td>1057.000000</td>\n",
       "      <td>-292.515152</td>\n",
       "      <td>643.696970</td>\n",
       "      <td>2.091320e+08</td>\n",
       "      <td>1</td>\n",
       "      <td>1</td>\n",
       "      <td>0</td>\n",
       "    </tr>\n",
       "    <tr>\n",
       "      <th>3</th>\n",
       "      <td>0.030303</td>\n",
       "      <td>794.000000</td>\n",
       "      <td>1061.000000</td>\n",
       "      <td>-181.727273</td>\n",
       "      <td>911.545455</td>\n",
       "      <td>2.095278e+08</td>\n",
       "      <td>1</td>\n",
       "      <td>1</td>\n",
       "      <td>0</td>\n",
       "    </tr>\n",
       "    <tr>\n",
       "      <th>4</th>\n",
       "      <td>0.040404</td>\n",
       "      <td>808.212121</td>\n",
       "      <td>1065.787879</td>\n",
       "      <td>614.000000</td>\n",
       "      <td>943.000000</td>\n",
       "      <td>2.099447e+08</td>\n",
       "      <td>1</td>\n",
       "      <td>1</td>\n",
       "      <td>0</td>\n",
       "    </tr>\n",
       "    <tr>\n",
       "      <th>...</th>\n",
       "      <td>...</td>\n",
       "      <td>...</td>\n",
       "      <td>...</td>\n",
       "      <td>...</td>\n",
       "      <td>...</td>\n",
       "      <td>...</td>\n",
       "      <td>...</td>\n",
       "      <td>...</td>\n",
       "      <td>...</td>\n",
       "    </tr>\n",
       "    <tr>\n",
       "      <th>43195</th>\n",
       "      <td>0.959596</td>\n",
       "      <td>774.000000</td>\n",
       "      <td>717.000000</td>\n",
       "      <td>975.000000</td>\n",
       "      <td>451.000000</td>\n",
       "      <td>8.269190e+08</td>\n",
       "      <td>12</td>\n",
       "      <td>6</td>\n",
       "      <td>5</td>\n",
       "    </tr>\n",
       "    <tr>\n",
       "      <th>43196</th>\n",
       "      <td>0.969697</td>\n",
       "      <td>800.363636</td>\n",
       "      <td>782.181818</td>\n",
       "      <td>975.000000</td>\n",
       "      <td>451.000000</td>\n",
       "      <td>8.271206e+08</td>\n",
       "      <td>12</td>\n",
       "      <td>6</td>\n",
       "      <td>5</td>\n",
       "    </tr>\n",
       "    <tr>\n",
       "      <th>43197</th>\n",
       "      <td>0.979798</td>\n",
       "      <td>626.000000</td>\n",
       "      <td>1353.000000</td>\n",
       "      <td>975.000000</td>\n",
       "      <td>451.000000</td>\n",
       "      <td>8.273334e+08</td>\n",
       "      <td>12</td>\n",
       "      <td>6</td>\n",
       "      <td>5</td>\n",
       "    </tr>\n",
       "    <tr>\n",
       "      <th>43198</th>\n",
       "      <td>0.989899</td>\n",
       "      <td>626.000000</td>\n",
       "      <td>1353.000000</td>\n",
       "      <td>975.000000</td>\n",
       "      <td>451.000000</td>\n",
       "      <td>8.275461e+08</td>\n",
       "      <td>12</td>\n",
       "      <td>6</td>\n",
       "      <td>5</td>\n",
       "    </tr>\n",
       "    <tr>\n",
       "      <th>43199</th>\n",
       "      <td>1.000000</td>\n",
       "      <td>626.000000</td>\n",
       "      <td>1353.000000</td>\n",
       "      <td>983.000000</td>\n",
       "      <td>451.000000</td>\n",
       "      <td>8.277094e+08</td>\n",
       "      <td>12</td>\n",
       "      <td>6</td>\n",
       "      <td>5</td>\n",
       "    </tr>\n",
       "  </tbody>\n",
       "</table>\n",
       "<p>43200 rows × 9 columns</p>\n",
       "</div>"
      ],
      "text/plain": [
       "       Resampled Index  Gaze point X  Gaze point Y  Mouse position X  \\\n",
       "0             0.000000   1670.000000    884.000000       -918.000000   \n",
       "1             0.010101   1093.000000   1055.000000       -442.030303   \n",
       "2             0.020202    812.000000   1057.000000       -292.515152   \n",
       "3             0.030303    794.000000   1061.000000       -181.727273   \n",
       "4             0.040404    808.212121   1065.787879        614.000000   \n",
       "...                ...           ...           ...               ...   \n",
       "43195         0.959596    774.000000    717.000000        975.000000   \n",
       "43196         0.969697    800.363636    782.181818        975.000000   \n",
       "43197         0.979798    626.000000   1353.000000        975.000000   \n",
       "43198         0.989899    626.000000   1353.000000        975.000000   \n",
       "43199         1.000000    626.000000   1353.000000        983.000000   \n",
       "\n",
       "       Mouse position Y  Recording timestamp  Participant name  Task_id  \\\n",
       "0            312.000000         2.083195e+08                 1        1   \n",
       "1            556.333333         2.087037e+08                 1        1   \n",
       "2            643.696970         2.091320e+08                 1        1   \n",
       "3            911.545455         2.095278e+08                 1        1   \n",
       "4            943.000000         2.099447e+08                 1        1   \n",
       "...                 ...                  ...               ...      ...   \n",
       "43195        451.000000         8.269190e+08                12        6   \n",
       "43196        451.000000         8.271206e+08                12        6   \n",
       "43197        451.000000         8.273334e+08                12        6   \n",
       "43198        451.000000         8.275461e+08                12        6   \n",
       "43199        451.000000         8.277094e+08                12        6   \n",
       "\n",
       "       Task_execution  \n",
       "0                   0  \n",
       "1                   0  \n",
       "2                   0  \n",
       "3                   0  \n",
       "4                   0  \n",
       "...               ...  \n",
       "43195               5  \n",
       "43196               5  \n",
       "43197               5  \n",
       "43198               5  \n",
       "43199               5  \n",
       "\n",
       "[43200 rows x 9 columns]"
      ]
     },
     "execution_count": 11,
     "metadata": {},
     "output_type": "execute_result"
    }
   ],
   "source": [
    "dataset_resampled"
   ]
  },
  {
   "cell_type": "markdown",
   "metadata": {},
   "source": [
    "****\n",
    "# Classifier\n",
    "****"
   ]
  },
  {
   "cell_type": "code",
   "execution_count": null,
   "metadata": {},
   "outputs": [],
   "source": [
    "features = ['Relative timestamp', 'Gaze point X', 'Gaze point Y', 'Mouse position X', 'Mouse position Y']\n",
    "model = train_classifier(dataset_resampled,\n",
    "                          features,\n",
    "                          batch_size=64,\n",
    "                          hidden_dim=64,\n",
    "                          num_layers=4,\n",
    "                          learning_rate=0.001,\n",
    "                          num_epochs=100)"
   ]
  },
  {
   "cell_type": "markdown",
   "metadata": {},
   "source": [
    "****\n",
    "# Analysis\n",
    "****"
   ]
  },
  {
   "cell_type": "code",
   "execution_count": 4,
   "metadata": {},
   "outputs": [
    {
     "data": {
      "text/plain": [
       "LSTMClassifier(\n",
       "  (lstm): LSTM(5, 64, num_layers=4, batch_first=True)\n",
       "  (fc): Linear(in_features=64, out_features=6, bias=True)\n",
       "  (criterion): CrossEntropyLoss()\n",
       ")"
      ]
     },
     "execution_count": 4,
     "metadata": {},
     "output_type": "execute_result"
    }
   ],
   "source": [
    "ckpt_path = \"/home/kruu/git_folder/eye_tracking/GazeMouse_Classification/2ajznad2/checkpoints/best_lstm_classifier.ckpt\"\n",
    "features = ['Relative timestamp', 'Gaze point X', 'Gaze point Y', 'Mouse position X', 'Mouse position Y']\n",
    "    \n",
    "model_load = LSTMClassifier(input_dim=5, hidden_dim=64, num_classes = 6, num_layers=4, learning_rate=0.001)\n",
    "model_load.load_state_dict(torch.load(ckpt_path)[\"state_dict\"])\n",
    "model_load.eval()"
   ]
  },
  {
   "cell_type": "code",
   "execution_count": 5,
   "metadata": {},
   "outputs": [
    {
     "name": "stdout",
     "output_type": "stream",
     "text": [
      "✅ Evaluation Complete: Loss = 3.0381, Accuracy = 0.1852\n"
     ]
    }
   ],
   "source": [
    "res = evaluate_model(model_load, dataset_resampled, features)"
   ]
  },
  {
   "cell_type": "code",
   "execution_count": null,
   "metadata": {},
   "outputs": [],
   "source": []
  }
 ],
 "metadata": {
  "kernelspec": {
   "display_name": "Conda via SLURM aware",
   "language": "python",
   "name": "jupyter-eg-kernel-slurm-py-conda-1ika090dq"
  },
  "language_info": {
   "codemirror_mode": {
    "name": "ipython",
    "version": 3
   },
   "file_extension": ".py",
   "mimetype": "text/x-python",
   "name": "python",
   "nbconvert_exporter": "python",
   "pygments_lexer": "ipython3",
   "version": "3.12.9"
  }
 },
 "nbformat": 4,
 "nbformat_minor": 2
}
