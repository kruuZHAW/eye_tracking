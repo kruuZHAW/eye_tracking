{
 "cells": [
  {
   "cell_type": "code",
   "execution_count": 1,
   "metadata": {},
   "outputs": [],
   "source": [
    "import pandas as pd\n",
    "import numpy as np\n",
    "import os\n",
    "\n",
    "import json\n",
    "from pathlib import Path\n",
    "\n",
    "os.chdir('/cluster/home/kruu/git/eye_tracking/')\n",
    "# os.chdir('/home/kruu/git_folder/eye_tracking/')\n",
    "from utils.data_processing import EyeTrackingProcessor\n",
    "\n",
    "import torch\n",
    "from torch.utils.data import DataLoader\n",
    "from models.lstm_classifier import LSTMClassifier, train_classifier, split_by_participant, export_to_onnx\n",
    "from utils.dataset import GazeMouseDataset"
   ]
  },
  {
   "cell_type": "markdown",
   "metadata": {},
   "source": [
    "****\n",
    "# Import Datasets\n",
    "****"
   ]
  },
  {
   "cell_type": "code",
   "execution_count": 2,
   "metadata": {},
   "outputs": [
    {
     "name": "stderr",
     "output_type": "stream",
     "text": [
      "/cluster/home/kruu/git/eye_tracking/utils/data_processing.py:16: DtypeWarning: Columns (76) have mixed types. Specify dtype option on import or set low_memory=False.\n",
      "  df = pd.read_csv(path, sep='\\t')\n",
      "/cluster/home/kruu/git/eye_tracking/utils/data_processing.py:16: DtypeWarning: Columns (76) have mixed types. Specify dtype option on import or set low_memory=False.\n",
      "  df = pd.read_csv(path, sep='\\t')\n",
      "/cluster/home/kruu/git/eye_tracking/utils/data_processing.py:16: DtypeWarning: Columns (75,76) have mixed types. Specify dtype option on import or set low_memory=False.\n",
      "  df = pd.read_csv(path, sep='\\t')\n",
      "/cluster/home/kruu/git/eye_tracking/utils/data_processing.py:16: DtypeWarning: Columns (76) have mixed types. Specify dtype option on import or set low_memory=False.\n",
      "  df = pd.read_csv(path, sep='\\t')\n"
     ]
    }
   ],
   "source": [
    "# data_path = \"/store/kruu/eye_tracking\"\n",
    "data_path = \"/cluster/home/kruu/store/eye_tracking\"\n",
    "files_list = os.listdir(data_path)\n",
    "files_list = [os.path.join(data_path, file) for file in files_list]\n",
    "\n",
    "tasks = ['Task 1', 'Task 2', 'Task 3', 'Task 4', 'Task 5', 'Task 6']\n",
    "features = ['Recording timestamp', 'Gaze point X', 'Gaze point Y', 'Mouse position X', 'Mouse position Y', 'Event', 'Participant name']\n",
    "interpolate_col = ['Recording timestamp', 'Gaze point X', 'Gaze point Y', 'Mouse position X', 'Mouse position Y', 'Blink']\n",
    "\n",
    "processor = EyeTrackingProcessor()\n",
    "all_data = processor.load_data(files_list)\n",
    "dataset = processor.get_features(all_data, tasks, features)\n",
    "dataset, blinks = processor.detect_blinks(dataset)\n",
    "\n",
    "# Fixed Time step resampling\n",
    "dataset_time_resampled = processor.resample_tasks_fixed_time(dataset, interpolate_col, timestep = 0.01)\n",
    "dataset_time_resampled.Blink = (dataset_time_resampled.Blink > 0.5) #Transform interpolated data\n",
    "# dataset_time_resampled = processor.pad_tasks(dataset_time_resampled) # No need to pad here\n",
    "dataset_time_resampled[\"id\"] = dataset_time_resampled[\"Participant name\"].astype(str) + \"_\" + dataset_time_resampled[\"Task_id\"].astype(str) + \"_\" + dataset_time_resampled[\"Task_execution\"].astype(str)"
   ]
  },
  {
   "cell_type": "code",
   "execution_count": 3,
   "metadata": {},
   "outputs": [],
   "source": [
    "dataset_time_resampled[\"Mouse position X\"] = dataset_time_resampled[\"Mouse position X\"].ffill().bfill()\n",
    "dataset_time_resampled[\"Mouse position Y\"] = dataset_time_resampled[\"Mouse position Y\"].ffill().bfill()\n",
    "dataset_time_resampled[\"Gaze point X\"] = dataset_time_resampled[\"Gaze point X\"].ffill().bfill()\n",
    "dataset_time_resampled[\"Gaze point Y\"] = dataset_time_resampled[\"Gaze point Y\"].ffill().bfill()"
   ]
  },
  {
   "cell_type": "code",
   "execution_count": 4,
   "metadata": {},
   "outputs": [],
   "source": [
    "# add information about movements\n",
    "dataset_time_resampled[\"Gaze X delta\"] = dataset_time_resampled.groupby(\"id\")[\"Gaze point X\"].diff().fillna(0)\n",
    "dataset_time_resampled[\"Gaze Y delta\"] = dataset_time_resampled.groupby(\"id\")[\"Gaze point Y\"].diff().fillna(0)\n",
    "dataset_time_resampled[\"Mouse X delta\"] = dataset_time_resampled.groupby(\"id\")[\"Mouse position X\"].diff().fillna(0)\n",
    "dataset_time_resampled[\"Mouse Y delta\"] = dataset_time_resampled.groupby(\"id\")[\"Mouse position Y\"].diff().fillna(0)\n"
   ]
  },
  {
   "cell_type": "markdown",
   "metadata": {},
   "source": [
    "****\n",
    "# Classifier\n",
    "****"
   ]
  },
  {
   "cell_type": "code",
   "execution_count": null,
   "metadata": {},
   "outputs": [
    {
     "name": "stderr",
     "output_type": "stream",
     "text": [
      "/raid/persistent_scratch/kruu/venvs/aware/lib/python3.12/site-packages/torch/nn/modules/rnn.py:123: UserWarning: dropout option adds dropout after all but last recurrent layer, so non-zero dropout expects num_layers greater than 1, but got dropout=0.3 and num_layers=1\n",
      "  warnings.warn(\n",
      "/raid/persistent_scratch/kruu/venvs/aware/lib/python3.12/site-packages/lightning_fabric/plugins/environments/slurm.py:204: The `srun` command is available on your system but is not used. HINT: If your intention is to run Lightning on SLURM, prepend your python command with `srun` like so: srun python /raid/persistent_scratch/kruu/venvs/aware/lib/python ...\n",
      "GPU available: True (cuda), used: True\n",
      "TPU available: False, using: 0 TPU cores\n",
      "HPU available: False, using: 0 HPUs\n",
      "\u001b[34m\u001b[1mwandb\u001b[0m: Using wandb-core as the SDK backend.  Please refer to https://wandb.me/wandb-core for more information.\n",
      "\u001b[34m\u001b[1mwandb\u001b[0m: Currently logged in as: \u001b[33mkruu\u001b[0m (\u001b[33mzhaw_zav\u001b[0m) to \u001b[32mhttps://api.wandb.ai\u001b[0m. Use \u001b[1m`wandb login --relogin`\u001b[0m to force relogin\n"
     ]
    },
    {
     "data": {
      "text/html": [
       "Tracking run with wandb version 0.19.9"
      ],
      "text/plain": [
       "<IPython.core.display.HTML object>"
      ]
     },
     "metadata": {},
     "output_type": "display_data"
    },
    {
     "data": {
      "text/html": [
       "Run data is saved locally in <code>./wandb/run-20250407_120155-bwkjnio2</code>"
      ],
      "text/plain": [
       "<IPython.core.display.HTML object>"
      ]
     },
     "metadata": {},
     "output_type": "display_data"
    },
    {
     "data": {
      "text/html": [
       "Syncing run <strong><a href='https://wandb.ai/zhaw_zav/GazeMouse_Classification/runs/bwkjnio2' target=\"_blank\">lilac-plant-37</a></strong> to <a href='https://wandb.ai/zhaw_zav/GazeMouse_Classification' target=\"_blank\">Weights & Biases</a> (<a href='https://wandb.me/developer-guide' target=\"_blank\">docs</a>)<br>"
      ],
      "text/plain": [
       "<IPython.core.display.HTML object>"
      ]
     },
     "metadata": {},
     "output_type": "display_data"
    },
    {
     "data": {
      "text/html": [
       " View project at <a href='https://wandb.ai/zhaw_zav/GazeMouse_Classification' target=\"_blank\">https://wandb.ai/zhaw_zav/GazeMouse_Classification</a>"
      ],
      "text/plain": [
       "<IPython.core.display.HTML object>"
      ]
     },
     "metadata": {},
     "output_type": "display_data"
    },
    {
     "data": {
      "text/html": [
       " View run at <a href='https://wandb.ai/zhaw_zav/GazeMouse_Classification/runs/bwkjnio2' target=\"_blank\">https://wandb.ai/zhaw_zav/GazeMouse_Classification/runs/bwkjnio2</a>"
      ],
      "text/plain": [
       "<IPython.core.display.HTML object>"
      ]
     },
     "metadata": {},
     "output_type": "display_data"
    },
    {
     "name": "stderr",
     "output_type": "stream",
     "text": [
      "LOCAL_RANK: 0 - CUDA_VISIBLE_DEVICES: [0]\n",
      "/raid/persistent_scratch/kruu/venvs/aware/lib/python3.12/site-packages/pytorch_lightning/core/optimizer.py:378: Found unsupported keys in the optimizer configuration: {'gradient_clip_val'}\n",
      "\n",
      "  | Name        | Type             | Params | Mode \n",
      "---------------------------------------------------------\n",
      "0 | conv1       | Conv1d           | 2.0 K  | train\n",
      "1 | relu        | ReLU             | 0      | train\n",
      "2 | conv2       | Conv1d           | 24.7 K | train\n",
      "3 | dropout_cnn | Dropout          | 0      | train\n",
      "4 | lstm        | LSTM             | 264 K  | train\n",
      "5 | dropout     | Dropout          | 0      | train\n",
      "6 | fc          | Linear           | 1.5 K  | train\n",
      "7 | criterion   | CrossEntropyLoss | 0      | train\n",
      "---------------------------------------------------------\n",
      "292 K     Trainable params\n",
      "0         Non-trainable params\n",
      "292 K     Total params\n",
      "1.170     Total estimated model params size (MB)\n",
      "8         Modules in train mode\n",
      "0         Modules in eval mode\n"
     ]
    },
    {
     "name": "stdout",
     "output_type": "stream",
     "text": [
      "Sanity Checking DataLoader 0:   0%|          | 0/2 [00:00<?, ?it/s]"
     ]
    },
    {
     "name": "stderr",
     "output_type": "stream",
     "text": [
      "/raid/persistent_scratch/kruu/venvs/aware/lib/python3.12/site-packages/pytorch_lightning/trainer/connectors/data_connector.py:425: The 'val_dataloader' does not have many workers which may be a bottleneck. Consider increasing the value of the `num_workers` argument` to `num_workers=3` in the `DataLoader` to improve performance.\n"
     ]
    },
    {
     "name": "stdout",
     "output_type": "stream",
     "text": [
      "                                                                           "
     ]
    },
    {
     "name": "stderr",
     "output_type": "stream",
     "text": [
      "/raid/persistent_scratch/kruu/venvs/aware/lib/python3.12/site-packages/pytorch_lightning/trainer/connectors/data_connector.py:425: The 'train_dataloader' does not have many workers which may be a bottleneck. Consider increasing the value of the `num_workers` argument` to `num_workers=3` in the `DataLoader` to improve performance.\n"
     ]
    },
    {
     "name": "stdout",
     "output_type": "stream",
     "text": [
      "Epoch 99: 100%|██████████| 15/15 [00:04<00:00,  3.04it/s, v_num=nio2, train_loss_step=0.831, val_loss=2.340, train_loss_epoch=0.676]"
     ]
    },
    {
     "name": "stderr",
     "output_type": "stream",
     "text": [
      "`Trainer.fit` stopped: `max_epochs=100` reached.\n"
     ]
    },
    {
     "name": "stdout",
     "output_type": "stream",
     "text": [
      "Epoch 99: 100%|██████████| 15/15 [00:04<00:00,  3.03it/s, v_num=nio2, train_loss_step=0.831, val_loss=2.340, train_loss_epoch=0.676]\n"
     ]
    },
    {
     "name": "stderr",
     "output_type": "stream",
     "text": [
      "/raid/persistent_scratch/kruu/venvs/aware/lib/python3.12/site-packages/torch/nn/modules/rnn.py:123: UserWarning: dropout option adds dropout after all but last recurrent layer, so non-zero dropout expects num_layers greater than 1, but got dropout=0.3 and num_layers=1\n",
      "  warnings.warn(\n",
      "/raid/persistent_scratch/kruu/venvs/aware/lib/python3.12/site-packages/torch/onnx/symbolic_opset9.py:4277: UserWarning: Exporting a model to ONNX with a batch_size other than 1, with a variable length with LSTM can cause an error when running the ONNX model with a different batch size. Make sure to save the model with a batch size of 1, or define the initial states (h0/c0) as inputs of the model. \n",
      "  warnings.warn(\n"
     ]
    },
    {
     "name": "stdout",
     "output_type": "stream",
     "text": [
      "✅ Model exported to GazeMouse_Classification/bwkjnio2/best_lstm_classifier.onnx\n",
      "✅ Metadata saved to GazeMouse_Classification/bwkjnio2/model_metadata.json\n"
     ]
    }
   ],
   "source": [
    "features = ['Relative timestamp', 'Gaze point X', 'Gaze point Y', 'Mouse position X', 'Mouse position Y', 'Gaze X delta', 'Gaze Y delta', 'Mouse X delta', 'Mouse Y delta','Blink']\n",
    "\n",
    "input_dim = len(features)\n",
    "hidden_dim = 128\n",
    "num_classes = 6\n",
    "num_layers = 1\n",
    "batch_size = 32\n",
    "lr = 0.001\n",
    "num_epochs = 100\n",
    "\n",
    "\n",
    "train_df, val_df, test_df = split_by_participant(dataset_time_resampled, val_split=0.2, test_split=0.1)\n",
    "\n",
    "model, mean, std, best_ckpt_path = train_classifier(train_df,\n",
    "                                    val_df,\n",
    "                                    features,\n",
    "                                    batch_size=batch_size,\n",
    "                                    hidden_dim=hidden_dim,\n",
    "                                    num_layers=num_layers,\n",
    "                                    learning_rate=lr,\n",
    "                                    num_epochs=num_epochs)\n",
    "\n",
    "export_dir = Path(best_ckpt_path).parent.parent\n",
    "onnx_path = os.path.join(export_dir,\"best_lstm_classifier.onnx\")\n",
    "\n",
    "export_to_onnx(ckpt_path=best_ckpt_path, \n",
    "               export_path=onnx_path,\n",
    "               input_dim=input_dim, \n",
    "               hidden_dim=hidden_dim,\n",
    "               num_classes=num_classes,\n",
    "               num_layers=num_layers,\n",
    "               sequence_len=10000)\n",
    "\n",
    "metadata = {\n",
    "    \"features\": features,\n",
    "    \"mean\": {k: float(v) for k, v in mean.to_dict().items()},\n",
    "    \"std\": {k: float(v) for k, v in std.to_dict().items()},\n",
    "    \"train_ids\": train_df[\"id\"],\n",
    "    \"val_ids\": val_df[\"id\"],\n",
    "    \"test_ids\": test_df[\"id\"]\n",
    "}\n",
    "\n",
    "# Drop duplicates to get unique sequence-level IDs\n",
    "metadata[\"train_ids\"] = metadata[\"train_ids\"].drop_duplicates().tolist()\n",
    "metadata[\"val_ids\"] = metadata[\"val_ids\"].drop_duplicates().tolist()\n",
    "metadata[\"test_ids\"] = metadata[\"test_ids\"].drop_duplicates().tolist()\n",
    "\n",
    "# Save to JSON\n",
    "metadata_path = os.path.join(export_dir,\"model_metadata.json\")\n",
    "with open(metadata_path, \"w\") as f:\n",
    "    json.dump(metadata, f, indent=4)\n",
    "\n",
    "print(f\"✅ Metadata saved to {metadata_path}\")"
   ]
  },
  {
   "cell_type": "markdown",
   "metadata": {},
   "source": [
    "****\n",
    "# Analysis\n",
    "****"
   ]
  },
  {
   "cell_type": "code",
   "execution_count": null,
   "metadata": {},
   "outputs": [
    {
     "name": "stderr",
     "output_type": "stream",
     "text": [
      "/cluster/home/kruu/git/eye_tracking/utils/dataset.py:16: SettingWithCopyWarning: \n",
      "A value is trying to be set on a copy of a slice from a DataFrame.\n",
      "Try using .loc[row_indexer,col_indexer] = value instead\n",
      "\n",
      "See the caveats in the documentation: https://pandas.pydata.org/pandas-docs/stable/user_guide/indexing.html#returning-a-view-versus-a-copy\n",
      "  dataset['Relative timestamp'] = dataset.groupby('id')['Recording timestamp'].transform(lambda x: x - x.min())\n",
      "/cluster/home/kruu/git/eye_tracking/utils/dataset.py:26: SettingWithCopyWarning: \n",
      "A value is trying to be set on a copy of a slice from a DataFrame.\n",
      "Try using .loc[row_indexer,col_indexer] = value instead\n",
      "\n",
      "See the caveats in the documentation: https://pandas.pydata.org/pandas-docs/stable/user_guide/indexing.html#returning-a-view-versus-a-copy\n",
      "  dataset[features] = (dataset[features] - self.mean) / self.std\n",
      "\u001b[1;31m2025-04-07 14:56:50.319011796 [E:onnxruntime:Default, env.cc:234 ThreadMain] pthread_setaffinity_np failed for thread: 701746, index: 2, mask: {3, 43, }, error code: 22 error msg: Invalid argument. Specify the number of threads explicitly so the affinity is not set.\u001b[m\n",
      "\u001b[1;31m2025-04-07 14:56:50.319576230 [E:onnxruntime:Default, env.cc:234 ThreadMain] pthread_setaffinity_np failed for thread: 701744, index: 0, mask: {1, 41, }, error code: 22 error msg: Invalid argument. Specify the number of threads explicitly so the affinity is not set.\u001b[m\n",
      "\u001b[1;31m2025-04-07 14:56:50.320205815 [E:onnxruntime:Default, env.cc:234 ThreadMain] pthread_setaffinity_np failed for thread: 701756, index: 12, mask: {13, 53, }, error code: 22 error msg: Invalid argument. Specify the number of threads explicitly so the affinity is not set.\u001b[m\n",
      "\u001b[1;31m2025-04-07 14:56:50.320225640 [E:onnxruntime:Default, env.cc:234 ThreadMain] pthread_setaffinity_np failed for thread: 701758, index: 14, mask: {15, 55, }, error code: 22 error msg: Invalid argument. Specify the number of threads explicitly so the affinity is not set.\u001b[m\n",
      "\u001b[1;31m2025-04-07 14:56:50.322496776 [E:onnxruntime:Default, env.cc:234 ThreadMain] pthread_setaffinity_np failed for thread: 701759, index: 15, mask: {16, 56, }, error code: 22 error msg: Invalid argument. Specify the number of threads explicitly so the affinity is not set.\u001b[m\n",
      "\u001b[1;31m2025-04-07 14:56:50.323489604 [E:onnxruntime:Default, env.cc:234 ThreadMain] pthread_setaffinity_np failed for thread: 701754, index: 10, mask: {11, 51, }, error code: 22 error msg: Invalid argument. Specify the number of threads explicitly so the affinity is not set.\u001b[m\n",
      "\u001b[1;31m2025-04-07 14:56:50.319328309 [E:onnxruntime:Default, env.cc:234 ThreadMain] pthread_setaffinity_np failed for thread: 701751, index: 7, mask: {8, 48, }, error code: 22 error msg: Invalid argument. Specify the number of threads explicitly so the affinity is not set.\u001b[m\n",
      "\u001b[1;31m2025-04-07 14:56:50.327487962 [E:onnxruntime:Default, env.cc:234 ThreadMain] pthread_setaffinity_np failed for thread: 701745, index: 1, mask: {2, 42, }, error code: 22 error msg: Invalid argument. Specify the number of threads explicitly so the affinity is not set.\u001b[m\n",
      "\u001b[1;31m2025-04-07 14:56:50.319098596 [E:onnxruntime:Default, env.cc:234 ThreadMain] pthread_setaffinity_np failed for thread: 701747, index: 3, mask: {4, 44, }, error code: 22 error msg: Invalid argument. Specify the number of threads explicitly so the affinity is not set.\u001b[m\n",
      "\u001b[1;31m2025-04-07 14:56:50.319768218 [E:onnxruntime:Default, env.cc:234 ThreadMain] pthread_setaffinity_np failed for thread: 701755, index: 11, mask: {12, 52, }, error code: 22 error msg: Invalid argument. Specify the number of threads explicitly so the affinity is not set.\u001b[m\n",
      "\u001b[1;31m2025-04-07 14:56:50.338474825 [E:onnxruntime:Default, env.cc:234 ThreadMain] pthread_setaffinity_np failed for thread: 701757, index: 13, mask: {14, 54, }, error code: 22 error msg: Invalid argument. Specify the number of threads explicitly so the affinity is not set.\u001b[m\n",
      "\u001b[1;31m2025-04-07 14:56:50.341506013 [E:onnxruntime:Default, env.cc:234 ThreadMain] pthread_setaffinity_np failed for thread: 701760, index: 16, mask: {17, 57, }, error code: 22 error msg: Invalid argument. Specify the number of threads explicitly so the affinity is not set.\u001b[m\n",
      "\u001b[1;31m2025-04-07 14:56:50.344524562 [E:onnxruntime:Default, env.cc:234 ThreadMain] pthread_setaffinity_np failed for thread: 701761, index: 17, mask: {18, 58, }, error code: 22 error msg: Invalid argument. Specify the number of threads explicitly so the affinity is not set.\u001b[m\n",
      "\u001b[1;31m2025-04-07 14:56:50.319884093 [E:onnxruntime:Default, env.cc:234 ThreadMain] pthread_setaffinity_np failed for thread: 701749, index: 5, mask: {6, 46, }, error code: 22 error msg: Invalid argument. Specify the number of threads explicitly so the affinity is not set.\u001b[m\n",
      "\u001b[1;31m2025-04-07 14:56:50.348509365 [E:onnxruntime:Default, env.cc:234 ThreadMain] pthread_setaffinity_np failed for thread: 701762, index: 18, mask: {19, 59, }, error code: 22 error msg: Invalid argument. Specify the number of threads explicitly so the affinity is not set.\u001b[m\n",
      "\u001b[1;31m2025-04-07 14:56:50.349478599 [E:onnxruntime:Default, env.cc:234 ThreadMain] pthread_setaffinity_np failed for thread: 701753, index: 9, mask: {10, 50, }, error code: 22 error msg: Invalid argument. Specify the number of threads explicitly so the affinity is not set.\u001b[m\n",
      "\u001b[1;31m2025-04-07 14:56:50.319947289 [E:onnxruntime:Default, env.cc:234 ThreadMain] pthread_setaffinity_np failed for thread: 701750, index: 6, mask: {7, 47, }, error code: 22 error msg: Invalid argument. Specify the number of threads explicitly so the affinity is not set.\u001b[m\n",
      "\u001b[1;31m2025-04-07 14:56:50.356456395 [E:onnxruntime:Default, env.cc:234 ThreadMain] pthread_setaffinity_np failed for thread: 701763, index: 19, mask: {20, 60, }, error code: 22 error msg: Invalid argument. Specify the number of threads explicitly so the affinity is not set.\u001b[m\n",
      "\u001b[1;31m2025-04-07 14:56:50.362583561 [E:onnxruntime:Default, env.cc:234 ThreadMain] pthread_setaffinity_np failed for thread: 701764, index: 20, mask: {21, 61, }, error code: 22 error msg: Invalid argument. Specify the number of threads explicitly so the affinity is not set.\u001b[m\n",
      "\u001b[1;31m2025-04-07 14:56:50.366632248 [E:onnxruntime:Default, env.cc:234 ThreadMain] pthread_setaffinity_np failed for thread: 701765, index: 21, mask: {22, 62, }, error code: 22 error msg: Invalid argument. Specify the number of threads explicitly so the affinity is not set.\u001b[m\n",
      "\u001b[1;31m2025-04-07 14:56:50.320010315 [E:onnxruntime:Default, env.cc:234 ThreadMain] pthread_setaffinity_np failed for thread: 701752, index: 8, mask: {9, 49, }, error code: 22 error msg: Invalid argument. Specify the number of threads explicitly so the affinity is not set.\u001b[m\n",
      "\u001b[1;31m2025-04-07 14:56:50.370484946 [E:onnxruntime:Default, env.cc:234 ThreadMain] pthread_setaffinity_np failed for thread: 701766, index: 22, mask: {23, 63, }, error code: 22 error msg: Invalid argument. Specify the number of threads explicitly so the affinity is not set.\u001b[m\n",
      "\u001b[1;31m2025-04-07 14:56:50.378520854 [E:onnxruntime:Default, env.cc:234 ThreadMain] pthread_setaffinity_np failed for thread: 701767, index: 23, mask: {24, 64, }, error code: 22 error msg: Invalid argument. Specify the number of threads explicitly so the affinity is not set.\u001b[m\n",
      "\u001b[1;31m2025-04-07 14:56:50.389358415 [E:onnxruntime:Default, env.cc:234 ThreadMain] pthread_setaffinity_np failed for thread: 701769, index: 25, mask: {26, 66, }, error code: 22 error msg: Invalid argument. Specify the number of threads explicitly so the affinity is not set.\u001b[m\n",
      "\u001b[1;31m2025-04-07 14:56:50.398489663 [E:onnxruntime:Default, env.cc:234 ThreadMain] pthread_setaffinity_np failed for thread: 701771, index: 27, mask: {28, 68, }, error code: 22 error msg: Invalid argument. Specify the number of threads explicitly so the affinity is not set.\u001b[m\n",
      "\u001b[1;31m2025-04-07 14:56:50.402477564 [E:onnxruntime:Default, env.cc:234 ThreadMain] pthread_setaffinity_np failed for thread: 701772, index: 28, mask: {29, 69, }, error code: 22 error msg: Invalid argument. Specify the number of threads explicitly so the affinity is not set.\u001b[m\n",
      "\u001b[1;31m2025-04-07 14:56:50.412317539 [E:onnxruntime:Default, env.cc:234 ThreadMain] pthread_setaffinity_np failed for thread: 701773, index: 29, mask: {30, 70, }, error code: 22 error msg: Invalid argument. Specify the number of threads explicitly so the affinity is not set.\u001b[m\n",
      "\u001b[1;31m2025-04-07 14:56:50.415679333 [E:onnxruntime:Default, env.cc:234 ThreadMain] pthread_setaffinity_np failed for thread: 701774, index: 30, mask: {31, 71, }, error code: 22 error msg: Invalid argument. Specify the number of threads explicitly so the affinity is not set.\u001b[m\n",
      "\u001b[1;31m2025-04-07 14:56:50.419613739 [E:onnxruntime:Default, env.cc:234 ThreadMain] pthread_setaffinity_np failed for thread: 701775, index: 31, mask: {32, 72, }, error code: 22 error msg: Invalid argument. Specify the number of threads explicitly so the affinity is not set.\u001b[m\n",
      "\u001b[1;31m2025-04-07 14:56:50.427476358 [E:onnxruntime:Default, env.cc:234 ThreadMain] pthread_setaffinity_np failed for thread: 701776, index: 32, mask: {33, 73, }, error code: 22 error msg: Invalid argument. Specify the number of threads explicitly so the affinity is not set.\u001b[m\n",
      "\u001b[1;31m2025-04-07 14:56:50.430997053 [E:onnxruntime:Default, env.cc:234 ThreadMain] pthread_setaffinity_np failed for thread: 701777, index: 33, mask: {34, 74, }, error code: 22 error msg: Invalid argument. Specify the number of threads explicitly so the affinity is not set.\u001b[m\n",
      "\u001b[1;31m2025-04-07 14:56:50.434507101 [E:onnxruntime:Default, env.cc:234 ThreadMain] pthread_setaffinity_np failed for thread: 701778, index: 34, mask: {35, 75, }, error code: 22 error msg: Invalid argument. Specify the number of threads explicitly so the affinity is not set.\u001b[m\n",
      "\u001b[1;31m2025-04-07 14:56:50.438504454 [E:onnxruntime:Default, env.cc:234 ThreadMain] pthread_setaffinity_np failed for thread: 701779, index: 35, mask: {36, 76, }, error code: 22 error msg: Invalid argument. Specify the number of threads explicitly so the affinity is not set.\u001b[m\n",
      "\u001b[1;31m2025-04-07 14:56:50.442503197 [E:onnxruntime:Default, env.cc:234 ThreadMain] pthread_setaffinity_np failed for thread: 701780, index: 36, mask: {37, 77, }, error code: 22 error msg: Invalid argument. Specify the number of threads explicitly so the affinity is not set.\u001b[m\n",
      "\u001b[1;31m2025-04-07 14:56:50.446513988 [E:onnxruntime:Default, env.cc:234 ThreadMain] pthread_setaffinity_np failed for thread: 701781, index: 37, mask: {38, 78, }, error code: 22 error msg: Invalid argument. Specify the number of threads explicitly so the affinity is not set.\u001b[m\n",
      "\u001b[1;31m2025-04-07 14:56:50.450508217 [E:onnxruntime:Default, env.cc:234 ThreadMain] pthread_setaffinity_np failed for thread: 701770, index: 26, mask: {27, 67, }, error code: 22 error msg: Invalid argument. Specify the number of threads explicitly so the affinity is not set.\u001b[m\n",
      "\u001b[1;31m2025-04-07 14:56:50.450514605 [E:onnxruntime:Default, env.cc:234 ThreadMain] pthread_setaffinity_np failed for thread: 701782, index: 38, mask: {39, 79, }, error code: 22 error msg: Invalid argument. Specify the number of threads explicitly so the affinity is not set.\u001b[m\n"
     ]
    }
   ],
   "source": [
    "from models.lstm_classifier import evaluate_onnx_model\n",
    "\n",
    "metadata_path = '/cluster/home/kruu/git/eye_tracking/GazeMouse_Classification/bwkjnio2/model_metadata.json'\n",
    "onnx_path = '/cluster/home/kruu/git/eye_tracking/GazeMouse_Classification/bwkjnio2/best_lstm_classifier.onnx'\n",
    "\n",
    "\n",
    "with open(metadata_path, \"r\") as f:\n",
    "    metadata = json.load(f)\n",
    "\n",
    "res = evaluate_onnx_model(onnx_path, \n",
    "                          dataset_time_resampled.query(f\"id in {metadata[\"test_ids\"]}\"),\n",
    "                          metadata[\"features\"],\n",
    "                          metadata[\"mean\"], \n",
    "                          metadata[\"std\"])"
   ]
  },
  {
   "cell_type": "code",
   "execution_count": null,
   "metadata": {},
   "outputs": [],
   "source": []
  }
 ],
 "metadata": {
  "kernelspec": {
   "display_name": "aware",
   "language": "python",
   "name": "python3"
  },
  "language_info": {
   "codemirror_mode": {
    "name": "ipython",
    "version": 3
   },
   "file_extension": ".py",
   "mimetype": "text/x-python",
   "name": "python",
   "nbconvert_exporter": "python",
   "pygments_lexer": "ipython3",
   "version": "3.12.7"
  }
 },
 "nbformat": 4,
 "nbformat_minor": 2
}
