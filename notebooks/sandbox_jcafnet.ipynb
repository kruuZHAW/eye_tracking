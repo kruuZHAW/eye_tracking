{
 "cells": [
  {
   "cell_type": "markdown",
   "id": "f72b631d",
   "metadata": {},
   "source": [
    "# Joint Cross-Attnetion Fusion Net (JCAF-Net)\n",
    "\n",
    "### 1. Inputs gaze and mouse:\n",
    "- X/Y coordinates\n",
    "- Speed and direction (velocity)\n",
    "- Joint features: Euclidean distance, direcational angle between gaze and mouse\n",
    "\n",
    "### 2. Dual-Pathway design:\n",
    "- Cross-Attention Path: Learns interations between gaze and mouse using attention scores\n",
    "- Joint Feature Path: Processes handcrafted joint features (e.g. distance, angle) with CNNs\n",
    "- WARNING: VERY FEW DATA (AND BAD QUALITY) FOR THE MOUSE\n",
    "\n",
    "### 3. Feature Extractor:\n",
    "- ResNet-34 (2D CNNs) as backbone for unimodal (gaze and mouse) and joint inputs\n",
    "\n",
    "### 4. Cross-Attention Module:\n",
    "- Applied mid-way trough ResNet (between resudial blocks 2 and 3)\n",
    "- Attends to gaze features using mouse as key/value and vice versa\n",
    "\n",
    "### 5. Fusion and Classification:\n",
    "- Attended features + joint CNN features are concatenated\n",
    "- FCN (with re-weighting) produces final class logits.\n"
   ]
  },
  {
   "cell_type": "code",
   "execution_count": null,
   "id": "95e1cfce",
   "metadata": {},
   "outputs": [],
   "source": [
    "# TODO: \n",
    "# - Modify gaze mouse dataset to accomotade jcafnet inputs\n",
    "# - Modify Train.py to accomodate both lstm and jcafnet\n",
    "# -ADD A BOOLEAN MASK IDENTIFYING MISSING VALUES FOR MOUSE AND GAZE ?"
   ]
  },
  {
   "cell_type": "code",
   "execution_count": 1,
   "id": "0889c0c6",
   "metadata": {},
   "outputs": [],
   "source": [
    "import pandas as pd\n",
    "import numpy as np\n",
    "import os\n",
    "\n",
    "from pathlib import Path\n",
    "\n",
    "os.chdir('/cluster/home/kruu/git/eye_tracking/')\n",
    "# os.chdir('/home/kruu/git_folder/eye_tracking/')\n",
    "from utils.data_processing import EyeTrackingProcessor\n",
    "\n",
    "from tqdm import tqdm\n",
    "\n",
    "import torch\n",
    "from torch.utils.data import DataLoader\n",
    "from models.lstm_classifier import LSTMClassifier\n",
    "from utils.train import train_classifier, split_by_participant, export_to_onnx\n",
    "from utils.dataset import GazeMouseDatasetJCAFNet\n",
    "\n",
    "from utils.data_processing import EyeTrackingProcessor, GazeMetricsProcessor, MouseMetricsProcessor"
   ]
  },
  {
   "cell_type": "code",
   "execution_count": 2,
   "id": "1b991242",
   "metadata": {},
   "outputs": [
    {
     "name": "stderr",
     "output_type": "stream",
     "text": [
      "/cluster/home/kruu/git/eye_tracking/utils/data_processing.py:14: DtypeWarning: Columns (76) have mixed types. Specify dtype option on import or set low_memory=False.\n",
      "  df = pd.read_csv(path, sep='\\t')\n",
      "/cluster/home/kruu/git/eye_tracking/utils/data_processing.py:14: DtypeWarning: Columns (76) have mixed types. Specify dtype option on import or set low_memory=False.\n",
      "  df = pd.read_csv(path, sep='\\t')\n",
      "/cluster/home/kruu/git/eye_tracking/utils/data_processing.py:14: DtypeWarning: Columns (75,76) have mixed types. Specify dtype option on import or set low_memory=False.\n",
      "  df = pd.read_csv(path, sep='\\t')\n",
      "/cluster/home/kruu/git/eye_tracking/utils/data_processing.py:14: DtypeWarning: Columns (76) have mixed types. Specify dtype option on import or set low_memory=False.\n",
      "  df = pd.read_csv(path, sep='\\t')\n"
     ]
    }
   ],
   "source": [
    "# data_path = \"/store/kruu/eye_tracking\"\n",
    "data_path = \"/cluster/home/kruu/store/eye_tracking\"\n",
    "files_list = os.listdir(data_path)\n",
    "files_list = [os.path.join(data_path, file) for file in files_list]\n",
    "\n",
    "tasks = ['Task 1', 'Task 2', 'Task 3', 'Task 4', 'Task 5', 'Task 6']\n",
    "features = ['Recording timestamp', 'Gaze point X', 'Gaze point Y', 'Mouse position X', 'Mouse position Y', 'Event', 'Participant name']\n",
    "interpolate_col = ['Recording timestamp', 'Gaze point X', 'Gaze point Y', 'Mouse position X', 'Mouse position Y', 'Blink']\n",
    "\n",
    "processor = EyeTrackingProcessor()\n",
    "all_data = processor.load_data(files_list)\n",
    "dataset = processor.get_features(all_data, tasks, features)\n",
    "dataset, blinks = processor.detect_blinks(dataset)\n",
    "\n",
    "# Fixed Time step resampling\n",
    "dataset_time_resampled = processor.resample_tasks_fixed_time(dataset, interpolate_col, timestep = 0.01)\n",
    "dataset_time_resampled.Blink = (dataset_time_resampled.Blink > 0.5) #Transform interpolated data\n",
    "dataset_time_resampled[\"id\"] = dataset_time_resampled[\"Participant name\"].astype(str) + \"_\" + dataset_time_resampled[\"Task_id\"].astype(str) + \"_\" + dataset_time_resampled[\"Task_execution\"].astype(str)"
   ]
  },
  {
   "cell_type": "code",
   "execution_count": 19,
   "id": "220fda02",
   "metadata": {},
   "outputs": [],
   "source": [
    "def compute_joint_features(df):\n",
    "    gx, gy = df[\"Gaze point X\"].fillna(0), df[\"Gaze point Y\"].fillna(0)\n",
    "    mx, my = df[\"Mouse position X\"].fillna(0), df[\"Mouse position Y\"].fillna(0)\n",
    "\n",
    "    distance = np.sqrt((gx - mx)**2 + (gy - my)**2)\n",
    "    angle = np.arctan2(gy - my, gx - mx)  # radians\n",
    "    return distance, angle\n",
    "\n",
    "#Enrich dataframe with metrics for JCAFNet\n",
    "def enrich_with_gaze_mouse_metrics(df: pd.DataFrame) -> pd.DataFrame:\n",
    "    df = df.copy()\n",
    "    \n",
    "    df[\"Gaze Velocity\"] = np.nan\n",
    "    df[\"Gaze Acceleration\"] = np.nan\n",
    "    df[\"Mouse Velocity\"] = np.nan\n",
    "    df[\"Mouse Acceleration\"] = np.nan\n",
    "    df[\"Gaze-Mouse Distance\"] = np.nan\n",
    "    df[\"Angle Between Gaze and Mouse\"] = np.nan\n",
    "\n",
    "    task_group = df.groupby(\"id\")\n",
    "\n",
    "    for id, group in tqdm(task_group, desc=\"Enriching metrics\"):\n",
    "        mask = df[\"id\"] == id\n",
    "\n",
    "        # Gaze metrics\n",
    "        gaze_proc = GazeMetricsProcessor(group)\n",
    "        gaze_vel, gaze_acc = gaze_proc.compute_velocity_acceleration()\n",
    "        df.loc[mask, \"Gaze Velocity\"] = gaze_vel.fillna(0).values\n",
    "        df.loc[mask, \"Gaze Acceleration\"] = gaze_acc.fillna(0).values\n",
    "\n",
    "        # Mouse metrics\n",
    "        mouse_proc = MouseMetricsProcessor(group)\n",
    "        mouse_vel, mouse_acc = mouse_proc.compute_velocity_acceleration()\n",
    "        df.loc[mask, \"Mouse Velocity\"] = mouse_vel.fillna(0).values\n",
    "        df.loc[mask, \"Mouse Acceleration\"] = mouse_acc.fillna(0).values\n",
    "\n",
    "        # Joint features\n",
    "        dist, angle = compute_joint_features(group)\n",
    "        df.loc[mask, \"Gaze-Mouse Distance\"] = dist.fillna(0).values\n",
    "        df.loc[mask, \"Angle Between Gaze and Mouse\"] = angle.fillna(0).values\n",
    "\n",
    "    return df"
   ]
  },
  {
   "cell_type": "code",
   "execution_count": null,
   "id": "79b64479",
   "metadata": {},
   "outputs": [
    {
     "name": "stderr",
     "output_type": "stream",
     "text": [
      "Enriching metrics: 100%|██████████| 684/684 [01:01<00:00, 11.08it/s]\n"
     ]
    }
   ],
   "source": [
    "features = {\n",
    "    \"gaze\": [\"Gaze point X\", \"Gaze point Y\", \"Gaze Velocity\", \"Gaze Acceleration\"],\n",
    "    \"mouse\": [\"Mouse position X\", \"Mouse position Y\", \"Mouse Velocity\", \"Mouse Acceleration\"],\n",
    "    \"joint\": [\"Gaze-Mouse Distance\", \"Angle Between Gaze and Mouse\"]\n",
    "}\n",
    "\n",
    "dataset_enriched = enrich_with_gaze_mouse_metrics(dataset_time_resampled)"
   ]
  },
  {
   "cell_type": "code",
   "execution_count": null,
   "id": "ff153c82",
   "metadata": {},
   "outputs": [],
   "source": [
    "test_set = GazeMouseDatasetJCAFNet(\n",
    "    dataset=dataset_enriched,\n",
    "    gaze_features=features[\"gaze\"],\n",
    "    mouse_features=features[\"mouse\"],\n",
    "    joint_features=features[\"joint\"],\n",
    "    augment=None, \n",
    "    mean = None, \n",
    "    std = None,\n",
    ")"
   ]
  },
  {
   "cell_type": "code",
   "execution_count": 24,
   "id": "c95248f6",
   "metadata": {},
   "outputs": [
    {
     "data": {
      "text/plain": [
       "{'gaze': tensor([[        nan,         nan,         nan,  ...,         nan,\n",
       "                  nan,         nan],\n",
       "         [        nan,         nan,         nan,  ...,         nan,\n",
       "                  nan,         nan],\n",
       "         [-2.9660e-01, -2.9660e-01, -2.9660e-01,  ..., -2.9660e-01,\n",
       "          -2.9660e-01, -2.9660e-01],\n",
       "         [-1.0893e-04, -1.0893e-04, -1.0893e-04,  ..., -1.0893e-04,\n",
       "          -1.0893e-04, -1.0893e-04]]),\n",
       " 'mouse': tensor([[        nan,         nan,         nan,  ...,         nan,\n",
       "                  nan,         nan],\n",
       "         [        nan,         nan,         nan,  ...,         nan,\n",
       "                  nan,         nan],\n",
       "         [-2.0017e-02, -2.0017e-02, -2.0017e-02,  ..., -2.0017e-02,\n",
       "          -2.0017e-02, -2.0017e-02],\n",
       "         [-1.8592e-20, -1.8592e-20, -1.8592e-20,  ..., -1.8592e-20,\n",
       "          -1.8592e-20, -1.8592e-20]]),\n",
       " 'joint': tensor([[-0.7718, -0.7718, -0.7718,  ..., -0.7718, -0.7718, -0.7718],\n",
       "         [-0.7443, -0.7443, -0.7443,  ..., -0.7443, -0.7443, -0.7443]]),\n",
       " 'label': tensor(0)}"
      ]
     },
     "execution_count": 24,
     "metadata": {},
     "output_type": "execute_result"
    }
   ],
   "source": [
    "test_set.__getitem__(0)"
   ]
  },
  {
   "cell_type": "code",
   "execution_count": null,
   "id": "6311710c",
   "metadata": {},
   "outputs": [],
   "source": []
  }
 ],
 "metadata": {
  "kernelspec": {
   "display_name": "aware",
   "language": "python",
   "name": "python3"
  },
  "language_info": {
   "codemirror_mode": {
    "name": "ipython",
    "version": 3
   },
   "file_extension": ".py",
   "mimetype": "text/x-python",
   "name": "python",
   "nbconvert_exporter": "python",
   "pygments_lexer": "ipython3",
   "version": "3.12.7"
  }
 },
 "nbformat": 4,
 "nbformat_minor": 5
}
