{
 "cells": [
  {
   "cell_type": "markdown",
   "id": "f72b631d",
   "metadata": {},
   "source": [
    "# Joint Cross-Attnetion Fusion Net (JCAF-Net)\n",
    "\n",
    "### 1. Inputs gaze and mouse:\n",
    "- X/Y coordinates\n",
    "- Speed and direction (velocity)\n",
    "- Joint features: Euclidean distance, direcational angle between gaze and mouse\n",
    "\n",
    "### 2. Dual-Pathway design:\n",
    "- Cross-Attention Path: Learns interations between gaze and mouse using attention scores\n",
    "- Joint Feature Path: Processes handcrafted joint features (e.g. distance, angle) with CNNs\n",
    "- WARNING: VERY FEW DATA (AND BAD QUALITY) FOR THE MOUSE\n",
    "\n",
    "### 3. Feature Extractor:\n",
    "- ResNet-34 (2D CNNs) as backbone for unimodal (gaze and mouse) and joint inputs\n",
    "\n",
    "### 4. Cross-Attention Module:\n",
    "- Applied mid-way trough ResNet (between resudial blocks 2 and 3)\n",
    "- Attends to gaze features using mouse as key/value and vice versa\n",
    "\n",
    "### 5. Fusion and Classification:\n",
    "- Attended features + joint CNN features are concatenated\n",
    "- FCN (with re-weighting) produces final class logits.\n"
   ]
  },
  {
   "cell_type": "code",
   "execution_count": null,
   "id": "95e1cfce",
   "metadata": {},
   "outputs": [],
   "source": [
    "# TODO: \n",
    "# - ADD A BOOLEAN MASK IDENTIFYING MISSING VALUES FOR MOUSE AND GAZE ?"
   ]
  },
  {
   "cell_type": "code",
   "execution_count": 2,
   "id": "0889c0c6",
   "metadata": {},
   "outputs": [],
   "source": [
    "import pandas as pd\n",
    "import numpy as np\n",
    "import os\n",
    "\n",
    "from pathlib import Path\n",
    "\n",
    "os.chdir('/cluster/home/kruu/git/eye_tracking/')\n",
    "# os.chdir('/home/kruu/git_folder/eye_tracking/')\n",
    "from utils.data_processing import EyeTrackingProcessor\n",
    "\n",
    "import json\n",
    "from tqdm import tqdm\n",
    "\n",
    "import torch\n",
    "from torch.utils.data import DataLoader\n",
    "from models.jcafnet import JCAFNet\n",
    "from utils.train import train_classifier, split_by_participant, export_to_onnx\n",
    "from utils.dataset import GazeMouseDatasetJCAFNet\n",
    "\n",
    "from utils.data_processing import EyeTrackingProcessor, GazeMetricsProcessor, MouseMetricsProcessor"
   ]
  },
  {
   "cell_type": "code",
   "execution_count": 3,
   "id": "1b991242",
   "metadata": {},
   "outputs": [
    {
     "name": "stderr",
     "output_type": "stream",
     "text": [
      "/cluster/home/kruu/git/eye_tracking/utils/data_processing.py:14: DtypeWarning: Columns (76) have mixed types. Specify dtype option on import or set low_memory=False.\n",
      "  df = pd.read_csv(path, sep='\\t')\n",
      "/cluster/home/kruu/git/eye_tracking/utils/data_processing.py:14: DtypeWarning: Columns (76) have mixed types. Specify dtype option on import or set low_memory=False.\n",
      "  df = pd.read_csv(path, sep='\\t')\n",
      "/cluster/home/kruu/git/eye_tracking/utils/data_processing.py:14: DtypeWarning: Columns (75,76) have mixed types. Specify dtype option on import or set low_memory=False.\n",
      "  df = pd.read_csv(path, sep='\\t')\n",
      "/cluster/home/kruu/git/eye_tracking/utils/data_processing.py:14: DtypeWarning: Columns (76) have mixed types. Specify dtype option on import or set low_memory=False.\n",
      "  df = pd.read_csv(path, sep='\\t')\n"
     ]
    }
   ],
   "source": [
    "# data_path = \"/store/kruu/eye_tracking\"\n",
    "data_path = \"/cluster/home/kruu/store/eye_tracking\"\n",
    "files_list = os.listdir(data_path)\n",
    "files_list = [os.path.join(data_path, file) for file in files_list]\n",
    "\n",
    "tasks = ['Task 1', 'Task 2', 'Task 3', 'Task 4', 'Task 5', 'Task 6']\n",
    "features = ['Recording timestamp', 'Gaze point X', 'Gaze point Y', 'Mouse position X', 'Mouse position Y', 'Event', 'Participant name']\n",
    "interpolate_col = ['Recording timestamp', 'Gaze point X', 'Gaze point Y', 'Mouse position X', 'Mouse position Y', 'Blink']\n",
    "\n",
    "processor = EyeTrackingProcessor()\n",
    "all_data = processor.load_data(files_list)\n",
    "dataset = processor.get_features(all_data, tasks, features)\n",
    "dataset, blinks = processor.detect_blinks(dataset)\n",
    "\n",
    "# Fixed Time step resampling\n",
    "dataset_time_resampled = processor.resample_tasks_fixed_time(dataset, interpolate_col, timestep = 0.01)\n",
    "dataset_time_resampled.Blink = (dataset_time_resampled.Blink > 0.5) #Transform interpolated data\n",
    "dataset_time_resampled[\"id\"] = dataset_time_resampled[\"Participant name\"].astype(str) + \"_\" + dataset_time_resampled[\"Task_id\"].astype(str) + \"_\" + dataset_time_resampled[\"Task_execution\"].astype(str)\n",
    "\n",
    "dataset_time_resampled[\"Mouse position X\"] = dataset_time_resampled[\"Mouse position X\"].ffill().bfill()\n",
    "dataset_time_resampled[\"Mouse position Y\"] = dataset_time_resampled[\"Mouse position Y\"].ffill().bfill()\n",
    "dataset_time_resampled[\"Gaze point X\"] = dataset_time_resampled[\"Gaze point X\"].ffill().bfill()\n",
    "dataset_time_resampled[\"Gaze point Y\"] = dataset_time_resampled[\"Gaze point Y\"].ffill().bfill()"
   ]
  },
  {
   "cell_type": "code",
   "execution_count": 4,
   "id": "220fda02",
   "metadata": {},
   "outputs": [],
   "source": [
    "def compute_joint_features(df):\n",
    "    gx, gy = df[\"Gaze point X\"].fillna(0), df[\"Gaze point Y\"].fillna(0)\n",
    "    mx, my = df[\"Mouse position X\"].fillna(0), df[\"Mouse position Y\"].fillna(0)\n",
    "\n",
    "    distance = np.sqrt((gx - mx)**2 + (gy - my)**2)\n",
    "    angle = np.arctan2(gy - my, gx - mx)  # radians\n",
    "    return distance, angle\n",
    "\n",
    "#Enrich dataframe with metrics for JCAFNet\n",
    "def enrich_with_gaze_mouse_metrics(df: pd.DataFrame) -> pd.DataFrame:\n",
    "    df = df.copy()\n",
    "    \n",
    "    df[\"Gaze Velocity\"] = np.nan\n",
    "    df[\"Gaze Acceleration\"] = np.nan\n",
    "    df[\"Mouse Velocity\"] = np.nan\n",
    "    df[\"Mouse Acceleration\"] = np.nan\n",
    "    df[\"Gaze-Mouse Distance\"] = np.nan\n",
    "    df[\"Angle Between Gaze and Mouse\"] = np.nan\n",
    "\n",
    "    task_group = df.groupby(\"id\")\n",
    "\n",
    "    for id, group in tqdm(task_group, desc=\"Enriching metrics\"):\n",
    "        mask = df[\"id\"] == id\n",
    "\n",
    "        # Gaze metrics\n",
    "        gaze_proc = GazeMetricsProcessor(group)\n",
    "        gaze_vel, gaze_acc = gaze_proc.compute_velocity_acceleration()\n",
    "        df.loc[mask, \"Gaze Velocity\"] = gaze_vel.fillna(0).values\n",
    "        df.loc[mask, \"Gaze Acceleration\"] = gaze_acc.fillna(0).values\n",
    "\n",
    "        # Mouse metrics\n",
    "        mouse_proc = MouseMetricsProcessor(group)\n",
    "        mouse_vel, mouse_acc = mouse_proc.compute_velocity_acceleration()\n",
    "        df.loc[mask, \"Mouse Velocity\"] = mouse_vel.fillna(0).values\n",
    "        df.loc[mask, \"Mouse Acceleration\"] = mouse_acc.fillna(0).values\n",
    "\n",
    "        # Joint features\n",
    "        dist, angle = compute_joint_features(group)\n",
    "        df.loc[mask, \"Gaze-Mouse Distance\"] = dist.fillna(0).values\n",
    "        df.loc[mask, \"Angle Between Gaze and Mouse\"] = angle.fillna(0).values\n",
    "\n",
    "    return df"
   ]
  },
  {
   "cell_type": "code",
   "execution_count": 5,
   "id": "79b64479",
   "metadata": {},
   "outputs": [
    {
     "name": "stderr",
     "output_type": "stream",
     "text": [
      "Enriching metrics: 100%|██████████| 684/684 [01:02<00:00, 11.00it/s]\n"
     ]
    }
   ],
   "source": [
    "dataset_enriched = enrich_with_gaze_mouse_metrics(dataset_time_resampled)"
   ]
  },
  {
   "cell_type": "code",
   "execution_count": 6,
   "id": "6311710c",
   "metadata": {},
   "outputs": [
    {
     "name": "stderr",
     "output_type": "stream",
     "text": [
      "/raid/persistent_scratch/kruu/venvs/aware/lib/python3.12/site-packages/torchvision/models/_utils.py:208: UserWarning: The parameter 'pretrained' is deprecated since 0.13 and may be removed in the future, please use 'weights' instead.\n",
      "  warnings.warn(\n",
      "/raid/persistent_scratch/kruu/venvs/aware/lib/python3.12/site-packages/torchvision/models/_utils.py:223: UserWarning: Arguments other than a weight enum or `None` for 'weights' are deprecated since 0.13 and may be removed in the future. The current behavior is equivalent to passing `weights=None`.\n",
      "  warnings.warn(msg)\n",
      "/raid/persistent_scratch/kruu/venvs/aware/lib/python3.12/site-packages/lightning_fabric/plugins/environments/slurm.py:204: The `srun` command is available on your system but is not used. HINT: If your intention is to run Lightning on SLURM, prepend your python command with `srun` like so: srun python /raid/persistent_scratch/kruu/venvs/aware/lib/python ...\n",
      "GPU available: True (cuda), used: True\n",
      "TPU available: False, using: 0 TPU cores\n",
      "HPU available: False, using: 0 HPUs\n",
      "\u001b[34m\u001b[1mwandb\u001b[0m: Using wandb-core as the SDK backend.  Please refer to https://wandb.me/wandb-core for more information.\n",
      "\u001b[34m\u001b[1mwandb\u001b[0m: Currently logged in as: \u001b[33mkruu\u001b[0m (\u001b[33mzhaw_zav\u001b[0m) to \u001b[32mhttps://api.wandb.ai\u001b[0m. Use \u001b[1m`wandb login --relogin`\u001b[0m to force relogin\n"
     ]
    },
    {
     "data": {
      "text/html": [
       "Tracking run with wandb version 0.19.9"
      ],
      "text/plain": [
       "<IPython.core.display.HTML object>"
      ]
     },
     "metadata": {},
     "output_type": "display_data"
    },
    {
     "data": {
      "text/html": [
       "Run data is saved locally in <code>./wandb/run-20250507_094729-45w6lzp2</code>"
      ],
      "text/plain": [
       "<IPython.core.display.HTML object>"
      ]
     },
     "metadata": {},
     "output_type": "display_data"
    },
    {
     "data": {
      "text/html": [
       "Syncing run <strong><a href='https://wandb.ai/zhaw_zav/GazeMouse_Classification/runs/45w6lzp2' target=\"_blank\">fast-firefly-1</a></strong> to <a href='https://wandb.ai/zhaw_zav/GazeMouse_Classification' target=\"_blank\">Weights & Biases</a> (<a href='https://wandb.me/developer-guide' target=\"_blank\">docs</a>)<br>"
      ],
      "text/plain": [
       "<IPython.core.display.HTML object>"
      ]
     },
     "metadata": {},
     "output_type": "display_data"
    },
    {
     "data": {
      "text/html": [
       " View project at <a href='https://wandb.ai/zhaw_zav/GazeMouse_Classification' target=\"_blank\">https://wandb.ai/zhaw_zav/GazeMouse_Classification</a>"
      ],
      "text/plain": [
       "<IPython.core.display.HTML object>"
      ]
     },
     "metadata": {},
     "output_type": "display_data"
    },
    {
     "data": {
      "text/html": [
       " View run at <a href='https://wandb.ai/zhaw_zav/GazeMouse_Classification/runs/45w6lzp2' target=\"_blank\">https://wandb.ai/zhaw_zav/GazeMouse_Classification/runs/45w6lzp2</a>"
      ],
      "text/plain": [
       "<IPython.core.display.HTML object>"
      ]
     },
     "metadata": {},
     "output_type": "display_data"
    },
    {
     "name": "stderr",
     "output_type": "stream",
     "text": [
      "LOCAL_RANK: 0 - CUDA_VISIBLE_DEVICES: [0]\n",
      "/raid/persistent_scratch/kruu/venvs/aware/lib/python3.12/site-packages/pytorch_lightning/core/optimizer.py:378: Found unsupported keys in the optimizer configuration: {'gradient_clip_val'}\n",
      "\n",
      "  | Name            | Type                | Params | Mode \n",
      "----------------------------------------------------------------\n",
      "0 | gaze_backbone   | ResNet              | 21.3 M | train\n",
      "1 | mouse_backbone  | ResNet              | 21.3 M | train\n",
      "2 | joint_backbone  | JointFeatureCNN     | 25.8 K | train\n",
      "3 | cross_attention | CrossAttentionBlock | 787 K  | train\n",
      "4 | fc_fusion       | Sequential          | 593 K  | train\n",
      "5 | criterion       | FocalLoss           | 0      | train\n",
      "6 | train_accuracy  | MulticlassAccuracy  | 0      | train\n",
      "7 | val_accuracy    | MulticlassAccuracy  | 0      | train\n",
      "----------------------------------------------------------------\n",
      "44.0 M    Trainable params\n",
      "0         Non-trainable params\n",
      "44.0 M    Total params\n",
      "175.931   Total estimated model params size (MB)\n",
      "254       Modules in train mode\n",
      "0         Modules in eval mode\n"
     ]
    },
    {
     "name": "stdout",
     "output_type": "stream",
     "text": [
      "Sanity Checking DataLoader 0:   0%|          | 0/2 [00:00<?, ?it/s]"
     ]
    },
    {
     "name": "stderr",
     "output_type": "stream",
     "text": [
      "/raid/persistent_scratch/kruu/venvs/aware/lib/python3.12/site-packages/pytorch_lightning/trainer/connectors/data_connector.py:425: The 'val_dataloader' does not have many workers which may be a bottleneck. Consider increasing the value of the `num_workers` argument` to `num_workers=3` in the `DataLoader` to improve performance.\n"
     ]
    },
    {
     "name": "stdout",
     "output_type": "stream",
     "text": [
      "                                                                           "
     ]
    },
    {
     "name": "stderr",
     "output_type": "stream",
     "text": [
      "/raid/persistent_scratch/kruu/venvs/aware/lib/python3.12/site-packages/pytorch_lightning/trainer/connectors/data_connector.py:425: The 'train_dataloader' does not have many workers which may be a bottleneck. Consider increasing the value of the `num_workers` argument` to `num_workers=3` in the `DataLoader` to improve performance.\n"
     ]
    },
    {
     "name": "stdout",
     "output_type": "stream",
     "text": [
      "Epoch 99: 100%|██████████| 15/15 [00:03<00:00,  4.27it/s, v_num=lzp2, train_loss_step=0.145, val_loss=0.737, val_acc=0.646, train_loss_epoch=0.121, train_acc_epoch=0.979] "
     ]
    },
    {
     "name": "stderr",
     "output_type": "stream",
     "text": [
      "`Trainer.fit` stopped: `max_epochs=100` reached.\n"
     ]
    },
    {
     "name": "stdout",
     "output_type": "stream",
     "text": [
      "Epoch 99: 100%|██████████| 15/15 [00:08<00:00,  1.68it/s, v_num=lzp2, train_loss_step=0.145, val_loss=0.737, val_acc=0.646, train_loss_epoch=0.121, train_acc_epoch=0.979]\n",
      "✅ Metadata saved to GazeMouse_Classification/45w6lzp2/model_metadata.json\n"
     ]
    }
   ],
   "source": [
    "features = {\n",
    "    \"gaze\": [\"Gaze point X\", \"Gaze point Y\", \"Gaze Velocity\", \"Gaze Acceleration\"],\n",
    "    \"mouse\": [\"Mouse position X\", \"Mouse position Y\", \"Mouse Velocity\", \"Mouse Acceleration\"],\n",
    "    \"joint\": [\"Gaze-Mouse Distance\", \"Angle Between Gaze and Mouse\"]\n",
    "}\n",
    "\n",
    "gaze_dim = len(features[\"gaze\"])\n",
    "mouse_dim = len(features[\"mouse\"])\n",
    "joint_dim = len(features[\"joint\"])\n",
    "num_classes = 6\n",
    "batch_size = 32\n",
    "lr = 0.001\n",
    "num_epochs = 100\n",
    "data_augment = True\n",
    "\n",
    "train_df, val_df, test_df = split_by_participant(dataset_enriched, val_split=0.2, test_split=0.1)\n",
    "model = JCAFNet(num_classes, gaze_dim, mouse_dim, joint_dim, lr)\n",
    "\n",
    "model_trained, mean, std, best_ckpt_path = train_classifier(model,\n",
    "                                    train_df,\n",
    "                                    val_df,\n",
    "                                    features,\n",
    "                                    num_epochs=num_epochs,\n",
    "                                    data_augment=data_augment,\n",
    "                                    use_wandb=True)\n",
    "\n",
    "export_dir = Path(best_ckpt_path).parent.parent\n",
    "metadata = {\n",
    "    \"features\": features,\n",
    "    \"mean\": {k: float(v) for k, v in mean.to_dict().items()},\n",
    "    \"std\": {k: float(v) for k, v in std.to_dict().items()},\n",
    "    \"train_ids\": train_df[\"id\"].unique().tolist(),\n",
    "    \"val_ids\": val_df[\"id\"].unique().tolist(),\n",
    "    \"test_ids\": test_df[\"id\"].unique().tolist(),\n",
    "    \"num_classes\": num_classes,\n",
    "    \"batch_size\": batch_size,\n",
    "    \"data_augmentation\": data_augment,\n",
    "}\n",
    "\n",
    "# Save to JSON\n",
    "metadata_path = os.path.join(export_dir,\"model_metadata.json\")\n",
    "with open(metadata_path, \"w\") as f:\n",
    "    json.dump(metadata, f, indent=4)\n",
    "\n",
    "print(f\"✅ Metadata saved to {metadata_path}\")"
   ]
  },
  {
   "cell_type": "markdown",
   "id": "1075a5fd",
   "metadata": {},
   "source": [
    "****\n",
    "# Evaluate Model\n",
    "****"
   ]
  },
  {
   "cell_type": "code",
   "execution_count": 10,
   "id": "1f999951",
   "metadata": {},
   "outputs": [
    {
     "name": "stderr",
     "output_type": "stream",
     "text": [
      "/raid/persistent_scratch/kruu/venvs/aware/lib/python3.12/site-packages/torchvision/models/_utils.py:208: UserWarning: The parameter 'pretrained' is deprecated since 0.13 and may be removed in the future, please use 'weights' instead.\n",
      "  warnings.warn(\n",
      "/raid/persistent_scratch/kruu/venvs/aware/lib/python3.12/site-packages/torchvision/models/_utils.py:223: UserWarning: Arguments other than a weight enum or `None` for 'weights' are deprecated since 0.13 and may be removed in the future. The current behavior is equivalent to passing `weights=None`.\n",
      "  warnings.warn(msg)\n",
      "/cluster/home/kruu/git/eye_tracking/utils/dataset.py:128: SettingWithCopyWarning: \n",
      "A value is trying to be set on a copy of a slice from a DataFrame.\n",
      "Try using .loc[row_indexer,col_indexer] = value instead\n",
      "\n",
      "See the caveats in the documentation: https://pandas.pydata.org/pandas-docs/stable/user_guide/indexing.html#returning-a-view-versus-a-copy\n",
      "  dataset[self.features] = (dataset[self.features] - self.mean) / self.std\n",
      "/cluster/home/kruu/git/eye_tracking/utils/dataset.py:129: SettingWithCopyWarning: \n",
      "A value is trying to be set on a copy of a slice from a DataFrame.\n",
      "Try using .loc[row_indexer,col_indexer] = value instead\n",
      "\n",
      "See the caveats in the documentation: https://pandas.pydata.org/pandas-docs/stable/user_guide/indexing.html#returning-a-view-versus-a-copy\n",
      "  dataset[self.features] = dataset[self.features].fillna(0.0)\n"
     ]
    },
    {
     "name": "stdout",
     "output_type": "stream",
     "text": [
      "🧠 PyTorch Evaluation: Loss = 1.1882, Accuracy = 0.7639\n"
     ]
    }
   ],
   "source": [
    "from utils.train import evaluate_pytorch_model\n",
    "\n",
    "ckpt_path =\"/cluster/home/kruu/git/eye_tracking/GazeMouse_Classification/45w6lzp2/checkpoints/epoch41-val_acc0.75.ckpt\"\n",
    "metadata_path = '/cluster/home/kruu/git/eye_tracking/GazeMouse_Classification/45w6lzp2/model_metadata.json'\n",
    "with open(metadata_path, \"r\") as f:\n",
    "    metadata = json.load(f)\n",
    "\n",
    "model_ckpt = JCAFNet.load_from_checkpoint(ckpt_path)\n",
    "model_ckpt.eval()\n",
    "\n",
    "res_train_pytorch = evaluate_pytorch_model(model_ckpt,\n",
    "                                           dataset_enriched[dataset_enriched[\"id\"].isin(metadata[\"test_ids\"])],\n",
    "                                           metadata[\"features\"],\n",
    "                                           metadata[\"num_classes\"],\n",
    "                                           metadata[\"mean\"], \n",
    "                                           metadata[\"std\"])"
   ]
  },
  {
   "cell_type": "code",
   "execution_count": 11,
   "id": "41937a93",
   "metadata": {},
   "outputs": [
    {
     "data": {
      "text/plain": [
       "<sklearn.metrics._plot.confusion_matrix.ConfusionMatrixDisplay at 0x74d735f02e40>"
      ]
     },
     "execution_count": 11,
     "metadata": {},
     "output_type": "execute_result"
    },
    {
     "data": {
      "image/png": "[encoded data removed]",
      "text/plain": [
       "<Figure size 640x480 with 2 Axes>"
      ]
     },
     "metadata": {},
     "output_type": "display_data"
    }
   ],
   "source": [
    "from sklearn.metrics import confusion_matrix, ConfusionMatrixDisplay\n",
    "\n",
    "cm = confusion_matrix(res_train_pytorch[\"labels\"], res_train_pytorch[\"predictions\"])\n",
    "disp = ConfusionMatrixDisplay(confusion_matrix=cm)\n",
    "disp.plot()"
   ]
  },
  {
   "cell_type": "code",
   "execution_count": 12,
   "id": "74fb0643",
   "metadata": {},
   "outputs": [
    {
     "data": {
      "image/png": "[encoded data removed]",
      "text/plain": [
       "<Figure size 800x400 with 1 Axes>"
      ]
     },
     "metadata": {},
     "output_type": "display_data"
    }
   ],
   "source": [
    "import matplotlib.pyplot as plt\n",
    "\n",
    "plt.figure(figsize=(8, 4))\n",
    "plt.hist(\n",
    "    [c for c, correct in zip(res_train_pytorch[\"probs\"], res_train_pytorch[\"correct_flags\"]) if correct],\n",
    "    bins=30, alpha=0.6, label=\"Correct\"\n",
    ")\n",
    "plt.hist(\n",
    "    [c for c, correct in zip(res_train_pytorch[\"probs\"], res_train_pytorch[\"correct_flags\"]) if not correct],\n",
    "    bins=30, alpha=0.6, label=\"Incorrect\"\n",
    ")\n",
    "plt.title(\"Prediction Confidence Distribution\")\n",
    "plt.xlabel(\"Confidence\")\n",
    "plt.ylabel(\"Count\")\n",
    "plt.legend()\n",
    "plt.grid(True)\n",
    "plt.tight_layout()\n",
    "plt.show()"
   ]
  },
  {
   "cell_type": "code",
   "execution_count": null,
   "id": "2e235f83",
   "metadata": {},
   "outputs": [],
   "source": []
  }
 ],
 "metadata": {
  "kernelspec": {
   "display_name": "aware",
   "language": "python",
   "name": "python3"
  },
  "language_info": {
   "codemirror_mode": {
    "name": "ipython",
    "version": 3
   },
   "file_extension": ".py",
   "mimetype": "text/x-python",
   "name": "python",
   "nbconvert_exporter": "python",
   "pygments_lexer": "ipython3",
   "version": "3.12.7"
  }
 },
 "nbformat": 4,
 "nbformat_minor": 5
}
