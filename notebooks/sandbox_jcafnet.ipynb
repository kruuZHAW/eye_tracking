{
 "cells": [
  {
   "cell_type": "markdown",
   "id": "f72b631d",
   "metadata": {},
   "source": [
    "# Joint Cross-Attnetion Fusion Net (JCAF-Net)\n",
    "\n",
    "### 1. Inputs gaze and mouse:\n",
    "- X/Y coordinates\n",
    "- Speed and direction (velocity)\n",
    "- Joint features: Euclidean distance, direcational angle between gaze and mouse\n",
    "\n",
    "### 2. Dual-Pathway design:\n",
    "- Cross-Attention Path: Learns interations between gaze and mouse using attention scores\n",
    "- Joint Feature Path: Processes handcrafted joint features (e.g. distance, angle) with CNNs\n",
    "\n",
    "### 3. Feature Extractor:\n",
    "- ResNet-34 (2D CNNs) as backbone for unimodal (gaze and mouse) and joint inputs\n",
    "\n",
    "### 4. Cross-Attention Module:\n",
    "- Applied mid-way trough ResNet (between resudial blocks 2 and 3)\n",
    "- Attends to gaze features using mouse as key/value and vice versa\n",
    "\n",
    "### 5. Fusion and Classification:\n",
    "- Attended features + joint CNN features are concatenated\n",
    "- FCN (with re-weighting) produces final class logits.\n"
   ]
  },
  {
   "cell_type": "code",
   "execution_count": null,
   "id": "37211c93",
   "metadata": {},
   "outputs": [],
   "source": [
    "gaze_cols = [\"Gaze point X\", \"Gaze point Y\"]\n",
    "mouse_cols = [\"Mouse position X\", \"Mouse position Y\"]\n",
    "joint_cols = [\"Gaze-Mouse Distance\", \"Angle Between Gaze and Mouse\"]\n",
    "\n",
    "# You need to compute these joint features if not present\n",
    "def compute_joint_features(df):\n",
    "    gx, gy = df[\"Gaze point X\"], df[\"Gaze point Y\"]\n",
    "    mx, my = df[\"Mouse position X\"], df[\"Mouse position Y\"]\n",
    "\n",
    "    df[\"Gaze-Mouse Distance\"] = np.sqrt((gx - mx)**2 + (gy - my)**2)\n",
    "    df[\"Angle Between Gaze and Mouse\"] = np.arctan2(gy - my, gx - mx)  # radians\n",
    "    return df\n",
    "\n",
    "dataset_time_resampled = compute_joint_features(dataset_time_resampled)\n",
    "\n",
    "features = gaze_cols + mouse_cols + joint_cols"
   ]
  }
 ],
 "metadata": {
  "kernelspec": {
   "display_name": "aware",
   "language": "python",
   "name": "python3"
  },
  "language_info": {
   "name": "python",
   "version": "3.12.7"
  }
 },
 "nbformat": 4,
 "nbformat_minor": 5
}
