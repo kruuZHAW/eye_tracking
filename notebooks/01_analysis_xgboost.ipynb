{
 "cells": [
  {
   "cell_type": "code",
   "execution_count": 1,
   "metadata": {},
   "outputs": [],
   "source": [
    "import os\n",
    "os.chdir('/home/kruu/git_folder/eye_tracking/')\n",
    "# os.chdir('C:/Users/kruu/git_folder/eye_tracking/')\n",
    "\n",
    "import pandas as pd\n",
    "import numpy as np\n",
    "import joblib\n",
    "\n",
    "from utils.data_processing import EyeTrackingProcessor\n",
    "\n",
    "import matplotlib.pyplot as plt"
   ]
  },
  {
   "cell_type": "code",
   "execution_count": 8,
   "metadata": {},
   "outputs": [],
   "source": [
    "loaded_grid_search = joblib.load(\"/home/kruu/git_folder/eye_tracking/trainings/logs/xgboost_features/full_grid_search.pkl\")"
   ]
  },
  {
   "cell_type": "code",
   "execution_count": 9,
   "metadata": {},
   "outputs": [
    {
     "data": {
      "text/plain": [
       "dict_keys(['mean_fit_time', 'std_fit_time', 'mean_score_time', 'std_score_time', 'param_colsample_bytree', 'param_gamma', 'param_learning_rate', 'param_max_depth', 'param_n_estimators', 'param_subsample', 'params', 'split0_test_score', 'split1_test_score', 'split2_test_score', 'split3_test_score', 'split4_test_score', 'mean_test_score', 'std_test_score', 'rank_test_score'])"
      ]
     },
     "execution_count": 9,
     "metadata": {},
     "output_type": "execute_result"
    }
   ],
   "source": [
    "loaded_grid_search.cv_results_.keys()"
   ]
  },
  {
   "cell_type": "code",
   "execution_count": 10,
   "metadata": {},
   "outputs": [
    {
     "name": "stdout",
     "output_type": "stream",
     "text": [
      "Grid Search Score Summary:\n",
      "Lowest Accuracy: 0.6009\n",
      "Highest Accuracy (Best Score): 0.7398\n",
      "Average Accuracy across all configs: 0.6973\n"
     ]
    }
   ],
   "source": [
    "mean_scores = loaded_grid_search.cv_results_[\"mean_test_score\"]\n",
    "min_score = mean_scores.min()\n",
    "max_score = mean_scores.max()\n",
    "avg_score = mean_scores.mean()\n",
    "\n",
    "print(f\"Grid Search Score Summary:\")\n",
    "print(f\"Lowest Accuracy: {min_score:.4f}\")\n",
    "print(f\"Highest Accuracy (Best Score): {max_score:.4f}\")\n",
    "print(f\"Average Accuracy across all configs: {avg_score:.4f}\")"
   ]
  },
  {
   "cell_type": "code",
   "execution_count": null,
   "metadata": {},
   "outputs": [],
   "source": []
  }
 ],
 "metadata": {
  "kernelspec": {
   "display_name": "Conda via SLURM aware",
   "language": "python",
   "name": "jupyter-eg-kernel-slurm-py-conda-1ika090dq"
  },
  "language_info": {
   "codemirror_mode": {
    "name": "ipython",
    "version": 3
   },
   "file_extension": ".py",
   "mimetype": "text/x-python",
   "name": "python",
   "nbconvert_exporter": "python",
   "pygments_lexer": "ipython3",
   "version": "3.12.9"
  }
 },
 "nbformat": 4,
 "nbformat_minor": 2
}
